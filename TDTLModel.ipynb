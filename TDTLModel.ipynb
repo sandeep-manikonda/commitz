{
 "cells": [
  {
   "cell_type": "code",
   "execution_count": 2,
   "metadata": {},
   "outputs": [],
   "source": [
    "import numpy as np\n",
    "import pandas as pd\n",
    "import re"
   ]
  },
  {
   "cell_type": "code",
   "execution_count": 3,
   "metadata": {},
   "outputs": [],
   "source": [
    "pd.set_option('display.max_columns', 500)\n",
    "pd.set_option('display.width', 1000)"
   ]
  },
  {
   "cell_type": "code",
   "execution_count": 4,
   "metadata": {},
   "outputs": [],
   "source": [
    "td_datapath = \"/Users/saurabh/Downloads/ncsu/study/thesis/datasets/td_2016.csv\""
   ]
  },
  {
   "cell_type": "code",
   "execution_count": 5,
   "metadata": {},
   "outputs": [],
   "source": [
    "def get_raw_df(fname):\n",
    "    raw_df = pd.read_csv(fname)\n",
    "    raw_df.columns = [\"project_id\" , \"label\", \"content\"]\n",
    "    raw_df['idx'] = raw_df.index\n",
    "    raw_df = raw_df.dropna().reset_index()\n",
    "    raw_df[\"label\"] = raw_df[\"label\"].apply(lambda x: x.strip())\n",
    "    return raw_df"
   ]
  },
  {
   "cell_type": "code",
   "execution_count": 6,
   "metadata": {},
   "outputs": [
    {
     "data": {
      "text/html": [
       "<div>\n",
       "<style scoped>\n",
       "    .dataframe tbody tr th:only-of-type {\n",
       "        vertical-align: middle;\n",
       "    }\n",
       "\n",
       "    .dataframe tbody tr th {\n",
       "        vertical-align: top;\n",
       "    }\n",
       "\n",
       "    .dataframe thead th {\n",
       "        text-align: right;\n",
       "    }\n",
       "</style>\n",
       "<table border=\"1\" class=\"dataframe\">\n",
       "  <thead>\n",
       "    <tr style=\"text-align: right;\">\n",
       "      <th></th>\n",
       "      <th>index</th>\n",
       "      <th>project_id</th>\n",
       "      <th>label</th>\n",
       "      <th>content</th>\n",
       "      <th>idx</th>\n",
       "    </tr>\n",
       "  </thead>\n",
       "  <tbody>\n",
       "    <tr>\n",
       "      <th>54660</th>\n",
       "      <td>54660</td>\n",
       "      <td>jruby-1.4.0</td>\n",
       "      <td>WITHOUT_CLASSIFICATION</td>\n",
       "      <td>// Require in all libraries specified on comma...</td>\n",
       "      <td>54660</td>\n",
       "    </tr>\n",
       "    <tr>\n",
       "      <th>25929</th>\n",
       "      <td>25929</td>\n",
       "      <td>columba-1.4-src</td>\n",
       "      <td>WITHOUT_CLASSIFICATION</td>\n",
       "      <td>// model -&gt; view</td>\n",
       "      <td>25929</td>\n",
       "    </tr>\n",
       "    <tr>\n",
       "      <th>7090</th>\n",
       "      <td>7090</td>\n",
       "      <td>apache-jmeter-2.10</td>\n",
       "      <td>WITHOUT_CLASSIFICATION</td>\n",
       "      <td>// initialize to empty string, this will fail ...</td>\n",
       "      <td>7090</td>\n",
       "    </tr>\n",
       "  </tbody>\n",
       "</table>\n",
       "</div>"
      ],
      "text/plain": [
       "       index          project_id                   label                                            content    idx\n",
       "54660  54660         jruby-1.4.0  WITHOUT_CLASSIFICATION  // Require in all libraries specified on comma...  54660\n",
       "25929  25929     columba-1.4-src  WITHOUT_CLASSIFICATION                                   // model -> view  25929\n",
       "7090    7090  apache-jmeter-2.10  WITHOUT_CLASSIFICATION  // initialize to empty string, this will fail ...   7090"
      ]
     },
     "execution_count": 6,
     "metadata": {},
     "output_type": "execute_result"
    }
   ],
   "source": [
    "raw_df = get_raw_df(td_datapath)\n",
    "raw_df.sample(3)"
   ]
  },
  {
   "cell_type": "code",
   "execution_count": 7,
   "metadata": {},
   "outputs": [
    {
     "name": "stdout",
     "output_type": "stream",
     "text": [
      "label\n",
      "DEFECT                      472\n",
      "DESIGN                     2703\n",
      "DOCUMENTATION                54\n",
      "IMPLEMENTATION              757\n",
      "TEST                         85\n",
      "WITHOUT_CLASSIFICATION    58204\n",
      "Name: idx, dtype: int64\n"
     ]
    }
   ],
   "source": [
    "buggies = raw_df.groupby(\"label\")[\"idx\"].count()\n",
    "print(buggies)"
   ]
  },
  {
   "cell_type": "code",
   "execution_count": 8,
   "metadata": {},
   "outputs": [
    {
     "name": "stdout",
     "output_type": "stream",
     "text": [
      "project_id\n",
      "apache-ant-1.7.0                    4098\n",
      "apache-jmeter-2.10                  8057\n",
      "argouml                             9452\n",
      "columba-1.4-src                     6468\n",
      "emf-2.4.1                           4390\n",
      "hibernate-distribution-3.3.2.GA     2968\n",
      "jEdit-4.2                          10322\n",
      "jfreechart-1.0.19                   4408\n",
      "jruby-1.4.0                         4897\n",
      "sql12                               7215\n",
      "Name: idx, dtype: int64\n"
     ]
    }
   ],
   "source": [
    "buggies = raw_df.groupby(\"project_id\")[\"idx\"].count()\n",
    "print(buggies)"
   ]
  },
  {
   "cell_type": "code",
   "execution_count": 11,
   "metadata": {},
   "outputs": [
    {
     "name": "stdout",
     "output_type": "stream",
     "text": [
      "project_id                       label                 \n",
      "apache-ant-1.7.0                 DEFECT                       13\n",
      "                                 DESIGN                       95\n",
      "                                 IMPLEMENTATION               13\n",
      "                                 TEST                         10\n",
      "                                 WITHOUT_CLASSIFICATION     3967\n",
      "apache-jmeter-2.10               DEFECT                       22\n",
      "                                 DESIGN                      316\n",
      "                                 DOCUMENTATION                 3\n",
      "                                 IMPLEMENTATION               21\n",
      "                                 TEST                         12\n",
      "                                 WITHOUT_CLASSIFICATION     7683\n",
      "argouml                          DEFECT                      127\n",
      "                                 DESIGN                      801\n",
      "                                 DOCUMENTATION                30\n",
      "                                 IMPLEMENTATION              411\n",
      "                                 TEST                         44\n",
      "                                 WITHOUT_CLASSIFICATION     8039\n",
      "columba-1.4-src                  DEFECT                       13\n",
      "                                 DESIGN                      126\n",
      "                                 DOCUMENTATION                16\n",
      "                                 IMPLEMENTATION               43\n",
      "                                 TEST                          6\n",
      "                                 WITHOUT_CLASSIFICATION     6264\n",
      "emf-2.4.1                        DEFECT                        8\n",
      "                                 DESIGN                       78\n",
      "                                 IMPLEMENTATION               16\n",
      "                                 TEST                          2\n",
      "                                 WITHOUT_CLASSIFICATION     4286\n",
      "hibernate-distribution-3.3.2.GA  DEFECT                       52\n",
      "                                 DESIGN                      355\n",
      "                                 DOCUMENTATION                 1\n",
      "                                 IMPLEMENTATION               64\n",
      "                                 WITHOUT_CLASSIFICATION     2496\n",
      "jEdit-4.2                        DEFECT                       43\n",
      "                                 DESIGN                      196\n",
      "                                 IMPLEMENTATION               14\n",
      "                                 TEST                          3\n",
      "                                 WITHOUT_CLASSIFICATION    10066\n",
      "jfreechart-1.0.19                DEFECT                        9\n",
      "                                 DESIGN                      184\n",
      "                                 IMPLEMENTATION               15\n",
      "                                 TEST                          1\n",
      "                                 WITHOUT_CLASSIFICATION     4199\n",
      "jruby-1.4.0                      DEFECT                      161\n",
      "                                 DESIGN                      343\n",
      "                                 DOCUMENTATION                 2\n",
      "                                 IMPLEMENTATION              110\n",
      "                                 TEST                          6\n",
      "                                 WITHOUT_CLASSIFICATION     4275\n",
      "sql12                            DEFECT                       24\n",
      "                                 DESIGN                      209\n",
      "                                 DOCUMENTATION                 2\n",
      "                                 IMPLEMENTATION               50\n",
      "                                 TEST                          1\n",
      "                                 WITHOUT_CLASSIFICATION     6929\n",
      "Name: idx, dtype: int64\n"
     ]
    }
   ],
   "source": [
    "buggies = raw_df.groupby([\"project_id\", \"label\"])[\"idx\"].count()\n",
    "print(buggies)"
   ]
  },
  {
   "cell_type": "code",
   "execution_count": 16,
   "metadata": {},
   "outputs": [],
   "source": [
    "def set_label(raw_df):\n",
    "    raw_df[\"label_code\"] = raw_df[\"label\"].apply(lambda val: 1. if \"DEFECT\" == str(val.strip()) else 0.)\n",
    "    label_counts = raw_df.groupby(\"label\")[\"idx\"].count()\n",
    "    label_code_counts = raw_df.groupby(\"label_code\")[\"idx\"].count()\n",
    "    return raw_df"
   ]
  },
  {
   "cell_type": "code",
   "execution_count": 17,
   "metadata": {},
   "outputs": [
    {
     "data": {
      "text/html": [
       "<div>\n",
       "<style scoped>\n",
       "    .dataframe tbody tr th:only-of-type {\n",
       "        vertical-align: middle;\n",
       "    }\n",
       "\n",
       "    .dataframe tbody tr th {\n",
       "        vertical-align: top;\n",
       "    }\n",
       "\n",
       "    .dataframe thead th {\n",
       "        text-align: right;\n",
       "    }\n",
       "</style>\n",
       "<table border=\"1\" class=\"dataframe\">\n",
       "  <thead>\n",
       "    <tr style=\"text-align: right;\">\n",
       "      <th></th>\n",
       "      <th>index</th>\n",
       "      <th>project_id</th>\n",
       "      <th>label</th>\n",
       "      <th>content</th>\n",
       "      <th>idx</th>\n",
       "      <th>label_code</th>\n",
       "    </tr>\n",
       "  </thead>\n",
       "  <tbody>\n",
       "    <tr>\n",
       "      <th>46948</th>\n",
       "      <td>46948</td>\n",
       "      <td>jfreechart-1.0.19</td>\n",
       "      <td>WITHOUT_CLASSIFICATION</td>\n",
       "      <td>// de-register the composite as a listener for...</td>\n",
       "      <td>46948</td>\n",
       "      <td>0.0</td>\n",
       "    </tr>\n",
       "    <tr>\n",
       "      <th>36959</th>\n",
       "      <td>36959</td>\n",
       "      <td>jEdit-4.2</td>\n",
       "      <td>WITHOUT_CLASSIFICATION</td>\n",
       "      <td>//}}}</td>\n",
       "      <td>36959</td>\n",
       "      <td>0.0</td>\n",
       "    </tr>\n",
       "    <tr>\n",
       "      <th>45340</th>\n",
       "      <td>45340</td>\n",
       "      <td>jEdit-4.2</td>\n",
       "      <td>WITHOUT_CLASSIFICATION</td>\n",
       "      <td>//{{{ getIconForFile() method</td>\n",
       "      <td>45340</td>\n",
       "      <td>0.0</td>\n",
       "    </tr>\n",
       "  </tbody>\n",
       "</table>\n",
       "</div>"
      ],
      "text/plain": [
       "       index         project_id                   label                                            content    idx  label_code\n",
       "46948  46948  jfreechart-1.0.19  WITHOUT_CLASSIFICATION  // de-register the composite as a listener for...  46948         0.0\n",
       "36959  36959          jEdit-4.2  WITHOUT_CLASSIFICATION                                              //}}}  36959         0.0\n",
       "45340  45340          jEdit-4.2  WITHOUT_CLASSIFICATION                      //{{{ getIconForFile() method  45340         0.0"
      ]
     },
     "execution_count": 17,
     "metadata": {},
     "output_type": "execute_result"
    }
   ],
   "source": [
    "raw_df = set_label(raw_df)\n",
    "raw_df.sample(3)"
   ]
  },
  {
   "cell_type": "code",
   "execution_count": null,
   "metadata": {},
   "outputs": [],
   "source": []
  }
 ],
 "metadata": {
  "kernelspec": {
   "display_name": "Python 3",
   "language": "python",
   "name": "python3"
  },
  "language_info": {
   "codemirror_mode": {
    "name": "ipython",
    "version": 3
   },
   "file_extension": ".py",
   "mimetype": "text/x-python",
   "name": "python",
   "nbconvert_exporter": "python",
   "pygments_lexer": "ipython3",
   "version": "3.6.5"
  }
 },
 "nbformat": 4,
 "nbformat_minor": 2
}
