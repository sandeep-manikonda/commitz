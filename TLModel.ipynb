{
 "cells": [
  {
   "cell_type": "code",
   "execution_count": 1,
   "metadata": {},
   "outputs": [],
   "source": [
    "import math, re, string, os, glob\n",
    "import pandas as pd\n",
    "import numpy as np\n",
    "from collections import Counter\n",
    "from nltk.corpus import stopwords\n",
    "from nltk.tokenize import wordpunct_tokenize, RegexpTokenizer\n",
    "from nltk.stem import WordNetLemmatizer, SnowballStemmer\n",
    "from sklearn.svm import SVC\n",
    "from sklearn.preprocessing import StandardScaler, MinMaxScaler, MaxAbsScaler\n",
    "from sklearn.feature_extraction.text import TfidfVectorizer, CountVectorizer\n",
    "from sklearn.naive_bayes import MultinomialNB\n",
    "from sklearn.neighbors import NearestNeighbors\n",
    "from sklearn.cluster import KMeans\n",
    "from sklearn.tree import DecisionTreeClassifier\n",
    "from sklearn.ensemble import VotingClassifier, RandomForestClassifier\n",
    "from sklearn.decomposition import NMF, LatentDirichletAllocation\n",
    "from sklearn.model_selection import train_test_split\n",
    "from sklearn.metrics import confusion_matrix\n",
    "from sklearn.model_selection import cross_val_score, cross_validate\n",
    "# import matplotlib.pyplot as plt\n",
    "from scipy.sparse import hstack, vstack, csr_matrix"
   ]
  },
  {
   "cell_type": "code",
   "execution_count": 2,
   "metadata": {},
   "outputs": [],
   "source": [
    "# fname = \"/Users/saurabh/workspace/fss/project/data/data-collection/labeled_commits/auto/abinit_concat.csv\"\n",
    "pd.set_option('display.max_columns', 500)\n",
    "pd.set_option('display.width', 1000)"
   ]
  },
  {
   "cell_type": "code",
   "execution_count": 3,
   "metadata": {},
   "outputs": [
    {
     "name": "stdout",
     "output_type": "stream",
     "text": [
      "['/Users/saurabh/Downloads/ncsu/study/thesis/datasets/Classified_SE_preprocessed/SE0.txt', '/Users/saurabh/Downloads/ncsu/study/thesis/datasets/Classified_SE_preprocessed/SE1.txt', '/Users/saurabh/Downloads/ncsu/study/thesis/datasets/Classified_SE_preprocessed/SE2.txt', '/Users/saurabh/Downloads/ncsu/study/thesis/datasets/Classified_SE_preprocessed/SE3.txt', '/Users/saurabh/Downloads/ncsu/study/thesis/datasets/Classified_SE_preprocessed/SE4.txt', '/Users/saurabh/Downloads/ncsu/study/thesis/datasets/Classified_SE_preprocessed/SE5.txt', '/Users/saurabh/Downloads/ncsu/study/thesis/datasets/Classified_SE_preprocessed/SE6.txt', '/Users/saurabh/Downloads/ncsu/study/thesis/datasets/Classified_SE_preprocessed/SE7.txt', '/Users/saurabh/Downloads/ncsu/study/thesis/datasets/Classified_SE_preprocessed/SE8.txt', '/Users/saurabh/Downloads/ncsu/study/thesis/datasets/Classified_SE_preprocessed/SE9.txt']\n"
     ]
    }
   ],
   "source": [
    "sto_datapath = \"/Users/saurabh/Downloads/ncsu/study/thesis/datasets/Classified_SE_preprocessed/\"\n",
    "num_classes = 10\n",
    "name_classes = [\"academia\",\"cs\",\"diy\",\"expressionengine\",\"judaism\",\"photo\",\"rpg\",\"scifi\",\"ux\",\"webmasters\"]\n",
    "fnames = []\n",
    "for i in range(0, num_classes):\n",
    "    fnames.append(\"{}SE{}.txt\".format(sto_datapath, str(i)))\n",
    "print(fnames)"
   ]
  },
  {
   "cell_type": "code",
   "execution_count": 10,
   "metadata": {},
   "outputs": [],
   "source": [
    "exp_class = 0\n",
    "fname = fnames[exp_class]"
   ]
  },
  {
   "cell_type": "code",
   "execution_count": 4,
   "metadata": {},
   "outputs": [
    {
     "name": "stdout",
     "output_type": "stream",
     "text": [
      "/Users/saurabh/Downloads/ncsu/study/thesis/datasets/Classified_SE_preprocessed/SE0.txt\n",
      "label\n",
      "no     6008\n",
      "yes     309\n",
      "Name: idx, dtype: int64\n",
      "label_code\n",
      "0.0    6008\n",
      "1.0     309\n",
      "Name: idx, dtype: int64\n",
      "/Users/saurabh/Downloads/ncsu/study/thesis/datasets/Classified_SE_preprocessed/SE1.txt\n"
     ]
    },
    {
     "name": "stderr",
     "output_type": "stream",
     "text": [
      "/usr/local/lib/python3.6/site-packages/ipykernel_launcher.py:3: ParserWarning: Falling back to the 'python' engine because the 'c' engine does not support regex separators (separators > 1 char and different from '\\s+' are interpreted as regex); you can avoid this warning by specifying engine='python'.\n",
      "  This is separate from the ipykernel package so we can avoid doing imports until\n"
     ]
    },
    {
     "name": "stdout",
     "output_type": "stream",
     "text": [
      "label\n",
      "no     47201\n",
      "yes     1441\n",
      "Name: idx, dtype: int64\n",
      "label_code\n",
      "0.0    47201\n",
      "1.0     1441\n",
      "Name: idx, dtype: int64\n",
      "/Users/saurabh/Downloads/ncsu/study/thesis/datasets/Classified_SE_preprocessed/SE2.txt\n",
      "label\n",
      "no     60637\n",
      "yes      195\n",
      "Name: idx, dtype: int64\n",
      "label_code\n",
      "0.0    60637\n",
      "1.0      195\n",
      "Name: idx, dtype: int64\n",
      "/Users/saurabh/Downloads/ncsu/study/thesis/datasets/Classified_SE_preprocessed/SE3.txt\n",
      "label\n",
      "no     83583\n",
      "yes      654\n",
      "Name: idx, dtype: int64\n",
      "label_code\n",
      "0.0    83583\n",
      "1.0      654\n",
      "Name: idx, dtype: int64\n",
      "/Users/saurabh/Downloads/ncsu/study/thesis/datasets/Classified_SE_preprocessed/SE4.txt\n",
      "label\n",
      "no     50700\n",
      "yes      719\n",
      "Name: idx, dtype: int64\n",
      "label_code\n",
      "0.0    50700\n",
      "1.0      719\n",
      "Name: idx, dtype: int64\n",
      "/Users/saurabh/Downloads/ncsu/study/thesis/datasets/Classified_SE_preprocessed/SE5.txt\n",
      "label\n",
      "no     59350\n",
      "yes     1856\n",
      "Name: idx, dtype: int64\n",
      "label_code\n",
      "0.0    59350\n",
      "1.0     1856\n",
      "Name: idx, dtype: int64\n",
      "/Users/saurabh/Downloads/ncsu/study/thesis/datasets/Classified_SE_preprocessed/SE6.txt\n",
      "label\n",
      "no     15865\n",
      "yes      439\n",
      "Name: idx, dtype: int64\n",
      "label_code\n",
      "0.0    15865\n",
      "1.0      439\n",
      "Name: idx, dtype: int64\n",
      "/Users/saurabh/Downloads/ncsu/study/thesis/datasets/Classified_SE_preprocessed/SE7.txt\n",
      "label\n",
      "no     91143\n",
      "yes     1419\n",
      "Name: idx, dtype: int64\n",
      "label_code\n",
      "0.0    91143\n",
      "1.0     1419\n",
      "Name: idx, dtype: int64\n",
      "/Users/saurabh/Downloads/ncsu/study/thesis/datasets/Classified_SE_preprocessed/SE8.txt\n",
      "label\n",
      "no     58076\n",
      "yes      195\n",
      "Name: idx, dtype: int64\n",
      "label_code\n",
      "0.0    58076\n",
      "1.0      195\n",
      "Name: idx, dtype: int64\n",
      "/Users/saurabh/Downloads/ncsu/study/thesis/datasets/Classified_SE_preprocessed/SE9.txt\n",
      "label\n",
      "no     71325\n",
      "yes     1460\n",
      "Name: idx, dtype: int64\n",
      "label_code\n",
      "0.0    71325\n",
      "1.0     1460\n",
      "Name: idx, dtype: int64\n"
     ]
    }
   ],
   "source": [
    "for fname in fnames:\n",
    "    print(fname)\n",
    "    raw_df = pd.read_csv(fname, delimiter='>>>', header=None, index_col=None)\n",
    "    raw_df.columns = [\"content\", \"label\"]\n",
    "    raw_df['idx'] = raw_df.index\n",
    "    raw_df = raw_df.dropna().reset_index()\n",
    "    raw_df[\"label\"] = raw_df[\"label\"].apply(lambda x: x.strip())\n",
    "    raw_df.sample(3)\n",
    "\n",
    "    raw_df[\"label_code\"] = raw_df[\"label\"].apply(lambda val: 1. if \"yes\" == str(val.strip()) else 0.)\n",
    "    label_counts = raw_df.groupby(\"label\")[\"idx\"].count()\n",
    "    label_code_counts = raw_df.groupby(\"label_code\")[\"idx\"].count()\n",
    "    print(label_counts)\n",
    "    print(label_code_counts)"
   ]
  },
  {
   "cell_type": "code",
   "execution_count": 122,
   "metadata": {},
   "outputs": [],
   "source": [
    "# no_features = min(1000, len(words))\n",
    "no_features = 100\n",
    "\n",
    "# tfidf_vectorizer = TfidfVectorizer(max_features=no_features)\n",
    "tfidf_vectorizer = TfidfVectorizer(ngram_range=(1, 3), max_df=0.95, min_df=2, max_features=no_features)\n",
    "X_tfidf = tfidf_vectorizer.fit_transform(raw_df['content'])\n",
    "tfidf_feature_names = tfidf_vectorizer.get_feature_names()\n",
    "\n",
    "tf_vectorizer = CountVectorizer(max_features=no_features)\n",
    "# tf_vectorizer = CountVectorizer(ngram_range=(1, 3), max_df=0.95, min_df=2, max_features=no_features)\n",
    "X_tf = tf_vectorizer.fit_transform(raw_df['content'])\n",
    "tf_feature_names = tf_vectorizer.get_feature_names()"
   ]
  },
  {
   "cell_type": "code",
   "execution_count": 123,
   "metadata": {},
   "outputs": [
    {
     "name": "stdout",
     "output_type": "stream",
     "text": [
      "tf-idf vectorized:  (6317, 100)\n",
      "tf vectorized:  (6317, 100)\n"
     ]
    }
   ],
   "source": [
    "print(\"tf-idf vectorized: \", X_tfidf.shape)\n",
    "print(\"tf vectorized: \", X_tf.shape)"
   ]
  },
  {
   "cell_type": "code",
   "execution_count": 124,
   "metadata": {},
   "outputs": [],
   "source": [
    "no_topics = 2\n",
    "num_iter = 50"
   ]
  },
  {
   "cell_type": "code",
   "execution_count": 125,
   "metadata": {},
   "outputs": [],
   "source": [
    "# nmf = NMF(n_components=no_topics, random_state=1, alpha=.1, l1_ratio=.5, init='nndsvd').fit(X_tfidf)"
   ]
  },
  {
   "cell_type": "code",
   "execution_count": 126,
   "metadata": {},
   "outputs": [],
   "source": [
    "lda_tf = LatentDirichletAllocation(n_components=no_topics, max_iter=num_iter, learning_method='online', learning_offset=50.,random_state=9, evaluate_every=100).fit(X_tf)"
   ]
  },
  {
   "cell_type": "code",
   "execution_count": 127,
   "metadata": {},
   "outputs": [],
   "source": [
    "lda_tfidf = LatentDirichletAllocation(n_components=no_topics, max_iter=num_iter, learning_method='online', learning_offset=50.,random_state=9, evaluate_every=100).fit(X_tfidf)"
   ]
  },
  {
   "cell_type": "code",
   "execution_count": 128,
   "metadata": {},
   "outputs": [],
   "source": [
    "import pyLDAvis.sklearn\n",
    "pyLDAvis.enable_notebook()"
   ]
  },
  {
   "cell_type": "code",
   "execution_count": 129,
   "metadata": {},
   "outputs": [
    {
     "name": "stderr",
     "output_type": "stream",
     "text": [
      "/usr/local/lib/python3.6/site-packages/pyLDAvis/_prepare.py:257: FutureWarning: Sorting because non-concatenation axis is not aligned. A future version\n",
      "of pandas will change to not sort by default.\n",
      "\n",
      "To accept the future behavior, pass 'sort=False'.\n",
      "\n",
      "To retain the current behavior and silence the warning, pass 'sort=True'.\n",
      "\n",
      "  return pd.concat([default_term_info] + list(topic_dfs))\n"
     ]
    },
    {
     "data": {
      "text/html": [
       "\n",
       "<link rel=\"stylesheet\" type=\"text/css\" href=\"https://cdn.rawgit.com/bmabey/pyLDAvis/files/ldavis.v1.0.0.css\">\n",
       "\n",
       "\n",
       "<div id=\"ldavis_el137247665833281498292645\"></div>\n",
       "<script type=\"text/javascript\">\n",
       "\n",
       "var ldavis_el137247665833281498292645_data = {\"mdsDat\": {\"x\": [0.18846508862186667, -0.18846508862186667], \"y\": [0.0, 0.0], \"topics\": [1, 2], \"cluster\": [1, 1], \"Freq\": [51.10211040120613, 48.89788959879385]}, \"tinfo\": {\"Category\": [\"Default\", \"Default\", \"Default\", \"Default\", \"Default\", \"Default\", \"Default\", \"Default\", \"Default\", \"Default\", \"Default\", \"Default\", \"Default\", \"Default\", \"Default\", \"Default\", \"Default\", \"Default\", \"Default\", \"Default\", \"Default\", \"Default\", \"Default\", \"Default\", \"Default\", \"Default\", \"Default\", \"Default\", \"Default\", \"Default\", \"Topic1\", \"Topic1\", \"Topic1\", \"Topic1\", \"Topic1\", \"Topic1\", \"Topic1\", \"Topic1\", \"Topic1\", \"Topic1\", \"Topic1\", \"Topic1\", \"Topic1\", \"Topic1\", \"Topic1\", \"Topic1\", \"Topic1\", \"Topic1\", \"Topic1\", \"Topic1\", \"Topic1\", \"Topic1\", \"Topic1\", \"Topic1\", \"Topic1\", \"Topic1\", \"Topic1\", \"Topic1\", \"Topic1\", \"Topic1\", \"Topic1\", \"Topic1\", \"Topic1\", \"Topic1\", \"Topic1\", \"Topic1\", \"Topic1\", \"Topic1\", \"Topic1\", \"Topic1\", \"Topic1\", \"Topic2\", \"Topic2\", \"Topic2\", \"Topic2\", \"Topic2\", \"Topic2\", \"Topic2\", \"Topic2\", \"Topic2\", \"Topic2\", \"Topic2\", \"Topic2\", \"Topic2\", \"Topic2\", \"Topic2\", \"Topic2\", \"Topic2\", \"Topic2\", \"Topic2\", \"Topic2\", \"Topic2\", \"Topic2\", \"Topic2\", \"Topic2\", \"Topic2\", \"Topic2\", \"Topic2\", \"Topic2\", \"Topic2\", \"Topic2\", \"Topic2\", \"Topic2\", \"Topic2\", \"Topic2\", \"Topic2\", \"Topic2\", \"Topic2\"], \"Freq\": [3868.0, 3640.0, 2171.0, 2085.0, 1882.0, 1714.0, 1634.0, 1595.0, 1476.0, 1340.0, 1405.0, 1271.0, 1111.0, 1103.0, 1080.0, 1023.0, 1234.0, 947.0, 936.0, 933.0, 988.0, 914.0, 971.0, 952.0, 857.0, 838.0, 1237.0, 795.0, 848.0, 792.0, 2084.693384321707, 1634.464019142344, 1595.2364775387657, 1714.410196040661, 1475.706821883434, 1405.1750716308204, 970.8313769918173, 952.4318658813655, 782.4191871701364, 768.6415958165281, 987.4518378434198, 613.2604052668984, 1269.6649088883908, 621.0580144520836, 558.0138475407005, 553.0658939789646, 767.1557123982561, 703.7885011372659, 643.241721368328, 1274.2764160315107, 655.2717737103385, 1312.2302866620432, 1107.154322494346, 773.4830777206599, 838.5222912013887, 582.7509909151278, 509.5526386591697, 906.9786679508564, 1663.8442048449722, 2281.1716048602584, 1048.0406758697961, 2848.012666723629, 1851.205218952923, 796.210461103287, 884.8443013863838, 960.7138672833163, 792.4255704960013, 766.780454412411, 886.6433316425106, 867.8259990310775, 813.1282591187279, 3867.5129555980316, 3639.7182380433646, 1881.8629014666294, 1339.5735737973039, 1080.311150408367, 1102.8504175682376, 935.9638098070333, 913.9930681261533, 1110.8935962910973, 857.4250644573261, 932.9730755765132, 946.8532948401995, 794.8480325404605, 1023.1602425543142, 685.623329081405, 681.4874324236634, 667.9895706606669, 719.3744034895334, 838.0284731537595, 791.5237922887484, 598.6556125204195, 2162.0948477920106, 660.7879341118514, 840.0673101471427, 1193.002007871516, 878.3922505750232, 1150.631317638133, 765.0489553445245, 700.9410059748419, 826.4273669301806, 1030.0819137768458, 1003.5305838181242, 1063.0289583827314, 1294.338265963557, 733.9894892984352, 790.4107884855556, 813.5241902579155], \"Term\": [\"entri\", \"craft\", \"set\", \"move\", \"field\", \"robot\", \"play\", \"game\", \"chess\", \"user\", \"posit\", \"motor\", \"imag\", \"page\", \"php\", \"error\", \"type\", \"class\", \"templat\", \"section\", \"open\", \"plugin\", \"black\", \"white\", \"categori\", \"form\", \"name\", \"url\", \"code\", \"block\", \"move\", \"play\", \"game\", \"robot\", \"chess\", \"posit\", \"black\", \"white\", \"player\", \"pawn\", \"open\", \"sensor\", \"motor\", \"good\", \"mean\", \"read\", \"think\", \"start\", \"system\", \"time\", \"point\", \"know\", \"question\", \"two\", \"amp\", \"say\", \"even\", \"make\", \"one\", \"would\", \"control\", \"use\", \"like\", \"could\", \"look\", \"need\", \"also\", \"differ\", \"want\", \"get\", \"way\", \"entri\", \"craft\", \"field\", \"user\", \"php\", \"page\", \"templat\", \"plugin\", \"imag\", \"categori\", \"section\", \"class\", \"url\", \"error\", \"div\", \"asset\", \"content\", \"array\", \"form\", \"block\", \"return\", \"set\", \"local\", \"code\", \"type\", \"site\", \"name\", \"titl\", \"http\", \"valu\", \"work\", \"tri\", \"get\", \"use\", \"creat\", \"way\", \"like\"], \"Total\": [3868.0, 3640.0, 2171.0, 2085.0, 1882.0, 1714.0, 1634.0, 1595.0, 1476.0, 1340.0, 1405.0, 1271.0, 1111.0, 1103.0, 1080.0, 1023.0, 1234.0, 947.0, 936.0, 933.0, 988.0, 914.0, 971.0, 952.0, 857.0, 838.0, 1237.0, 795.0, 848.0, 792.0, 2085.207898251154, 1634.9544914445667, 1595.7204304392744, 1714.9346862188274, 1476.1857426294366, 1405.7532975069275, 971.3056100845358, 952.913244744753, 782.8943211887472, 769.1166360907705, 988.0824607060553, 613.7640348345855, 1271.1789329773167, 622.5876878967907, 567.4272912045238, 590.7151449165789, 823.3083277325296, 757.9403300476575, 695.2918067920158, 1399.207383752205, 725.3244304732898, 1486.3674436588426, 1261.8164328441921, 908.2761881282746, 988.3232506551146, 691.4136615726301, 605.776243412627, 1090.4536487687822, 2057.119113686186, 2831.8295779572527, 1340.400835843407, 4142.350932687186, 2664.7294092108386, 1023.4439129596078, 1254.1711088075706, 1477.8427801401194, 1030.0190068299748, 979.035654677573, 1466.0500219759424, 1930.8549574138087, 1603.5390476042835, 3868.04548967457, 3640.249348903334, 1882.4335286557848, 1340.1493109566757, 1080.8351414539493, 1103.4726082623213, 936.4949385177694, 914.533734601092, 1111.5646229832307, 857.9607872047175, 933.5820148867755, 947.4721753582397, 795.3723995411926, 1023.928044400215, 686.1404897348602, 682.0178498223031, 668.5304695725883, 720.0267053379566, 838.850321554384, 792.307388565475, 599.5094571035048, 2171.491605322528, 666.7762328860498, 848.5100774675633, 1234.22002270511, 940.8596632484971, 1237.6380392603162, 844.8369231898464, 781.4513739493195, 968.1937829913467, 1673.6121082566788, 1703.425762597165, 1930.8549574138087, 4142.350932687186, 885.1744726462068, 1603.5390476042835, 2664.7294092108386], \"loglift\": [30.0, 29.0, 28.0, 27.0, 26.0, 25.0, 24.0, 23.0, 22.0, 21.0, 20.0, 19.0, 18.0, 17.0, 16.0, 15.0, 14.0, 13.0, 12.0, 11.0, 10.0, 9.0, 8.0, 7.0, 6.0, 5.0, 4.0, 3.0, 2.0, 1.0, 0.6711, 0.671, 0.671, 0.671, 0.671, 0.6709, 0.6709, 0.6708, 0.6707, 0.6707, 0.6707, 0.6705, 0.6702, 0.6689, 0.6546, 0.6055, 0.6007, 0.5972, 0.5935, 0.5778, 0.5698, 0.5467, 0.5406, 0.5107, 0.507, 0.5004, 0.4984, 0.4871, 0.4592, 0.4551, 0.4253, 0.2967, 0.3071, 0.4203, 0.3225, 0.2407, 0.4091, 0.427, 0.1685, -0.1284, -0.0077, 0.7153, 0.7153, 0.7151, 0.715, 0.715, 0.7149, 0.7149, 0.7148, 0.7148, 0.7148, 0.7148, 0.7148, 0.7148, 0.7147, 0.7147, 0.7147, 0.7146, 0.7145, 0.7145, 0.7144, 0.714, 0.7111, 0.7064, 0.7054, 0.6815, 0.6467, 0.6425, 0.6162, 0.6067, 0.5571, 0.2301, 0.1863, 0.1186, -0.4478, 0.5281, 0.008, -0.471], \"logprob\": [30.0, 29.0, 28.0, 27.0, 26.0, 25.0, 24.0, 23.0, 22.0, 21.0, 20.0, 19.0, 18.0, 17.0, 16.0, 15.0, 14.0, 13.0, 12.0, 11.0, 10.0, 9.0, 8.0, 7.0, 6.0, 5.0, 4.0, 3.0, 2.0, 1.0, -3.3223, -3.5656, -3.5899, -3.5179, -3.6678, -3.7168, -4.0865, -4.1057, -4.3023, -4.3201, -4.0696, -4.5459, -3.8182, -4.5333, -4.6403, -4.6492, -4.322, -4.4082, -4.4982, -3.8146, -4.4796, -3.7852, -3.9551, -4.3138, -4.2331, -4.5969, -4.7312, -4.1546, -3.5478, -3.2322, -4.01, -3.0103, -3.4411, -4.2848, -4.1793, -4.097, -4.2896, -4.3225, -4.1772, -4.1987, -4.2638, -2.6602, -2.7209, -3.3806, -3.7205, -3.9356, -3.9149, -4.079, -4.1028, -3.9077, -4.1667, -4.0822, -4.0675, -4.2424, -3.9899, -4.3903, -4.3963, -4.4163, -4.3422, -4.1895, -4.2466, -4.5259, -3.2418, -4.4272, -4.1871, -3.8364, -4.1425, -3.8725, -4.2807, -4.3682, -4.2035, -3.9832, -4.0093, -3.9517, -3.7548, -4.3221, -4.248, -4.2192]}, \"token.table\": {\"Topic\": [1, 2, 1, 2, 1, 2, 1, 2, 1, 1, 2, 1, 2, 1, 1, 2, 1, 2, 1, 2, 1, 2, 1, 2, 1, 2, 1, 2, 1, 2, 1, 2, 1, 2, 1, 2, 1, 2, 1, 2, 1, 2, 1, 1, 2, 1, 2, 1, 2, 1, 2, 1, 2, 1, 2, 1, 2, 1, 2, 1, 2, 1, 2, 1, 2, 1, 2, 1, 2, 1, 2, 1, 2, 1, 2, 1, 2, 1, 1, 2, 1, 1, 1, 2, 1, 2, 1, 2, 1, 2, 1, 2, 1, 2, 1, 2, 1, 2, 1, 2, 1, 2, 1, 2, 1, 2, 1, 2, 1, 2, 1, 2, 1, 2, 1, 2, 1, 2, 1, 2, 1, 2, 1, 2, 1, 2, 1, 2, 1, 2, 1, 2, 1, 2, 1, 2, 1, 1, 2, 1, 2], \"Freq\": [0.7689178498147223, 0.23106369729280796, 0.8489125389328491, 0.1517722060070648, 0.0013888373758729313, 0.9985740732526376, 0.001466237284347537, 0.9985075906406726, 0.9996853615573071, 0.0012621364061877124, 0.9996120337006682, 0.0011655544343210065, 0.9988801502131027, 0.9998741739443264, 0.0010554399654236807, 0.9995016472562256, 0.009428291086272718, 0.9899705640586354, 0.001495818134720666, 0.9992065139934049, 0.7818556747919195, 0.2178452834343898, 0.7777661188077394, 0.22180013689617692, 0.00027470645666106947, 0.9999315022462928, 0.17058783851796958, 0.8292150561072164, 0.7834239706546714, 0.21653961118486356, 0.0014574274728873994, 0.999795246400756, 0.0002585285004195059, 0.9999882396226488, 0.000976631127029799, 0.9990936429514844, 0.8418950157684071, 0.15847435590934722, 0.0005312272570464062, 0.9997696977613364, 0.0011921077864606485, 0.9989863250540235, 0.9995485233969987, 0.4495417932181716, 0.5505333251047424, 0.9974498565781886, 0.003212398893971622, 0.103653282469311, 0.89704877791342, 0.0008996328052580405, 0.999492046641683, 0.882688870505923, 0.11706392032624284, 0.6946296286601854, 0.30547191665553264, 0.0089985210990947, 0.9913370744169328, 0.7056453412018335, 0.29421822700957806, 0.831763918644394, 0.1678200629679428, 0.9833859045015058, 0.015861062975830738, 0.9990725672470394, 0.0015733426255858888, 0.9999002985499296, 0.0004795684885131557, 0.07029518909421709, 0.9299972718096996, 0.6502721486441774, 0.34983423605519215, 0.808898225158314, 0.1910438716870297, 0.9989044834322008, 0.0010120612800731518, 0.0009062300165064692, 0.9995717082066355, 0.9998483505813067, 0.000925210479976429, 0.9992273183745434, 0.999416196934189, 0.9988576731692353, 0.001093453376475158, 0.9994163860982944, 0.9030441723472604, 0.09650853750276066, 0.9994641324987368, 0.0007113623718852219, 0.8773066915167456, 0.12283878697840611, 0.9361534146514814, 0.06432880607008372, 0.0016680304007737293, 0.9991502100634638, 0.9994549727016786, 0.0005831125861736748, 0.8432000008127671, 0.15764802759621205, 0.001071143171198815, 0.9993765787284944, 0.9987551651917966, 0.0016292906446848231, 0.004144616528997931, 0.9956289928548362, 0.06589718150519196, 0.9331891187348152, 0.9288330124295326, 0.07124571402158347, 0.9247915676825199, 0.07478874264306537, 0.0010678114305484052, 0.9994714989933072, 0.9316072413750409, 0.06801826012646973, 0.9105154924093948, 0.08933629242635349, 0.09469283101162815, 0.9055001965486942, 0.41093660514604985, 0.5894005022380486, 0.8510627164992134, 0.1486332040457876, 0.03321936060487657, 0.9666023707711646, 0.0012572726946231047, 0.9995317922253684, 0.6875322845117984, 0.3123829972465826, 0.0007461855121845658, 0.9998885863273183, 0.14666485417957817, 0.8531349968474053, 0.6050271046034986, 0.3949387751583154, 0.5070035564239217, 0.4926602823799485, 0.9990416286584435, 0.38479645123434475, 0.6154353179679738, 0.8054863250794226, 0.19457385581708106], \"Term\": [\"also\", \"also\", \"amp\", \"amp\", \"array\", \"array\", \"asset\", \"asset\", \"black\", \"block\", \"block\", \"categori\", \"categori\", \"chess\", \"class\", \"class\", \"code\", \"code\", \"content\", \"content\", \"control\", \"control\", \"could\", \"could\", \"craft\", \"craft\", \"creat\", \"creat\", \"differ\", \"differ\", \"div\", \"div\", \"entri\", \"entri\", \"error\", \"error\", \"even\", \"even\", \"field\", \"field\", \"form\", \"form\", \"game\", \"get\", \"get\", \"good\", \"good\", \"http\", \"http\", \"imag\", \"imag\", \"know\", \"know\", \"like\", \"like\", \"local\", \"local\", \"look\", \"look\", \"make\", \"make\", \"mean\", \"mean\", \"motor\", \"motor\", \"move\", \"move\", \"name\", \"name\", \"need\", \"need\", \"one\", \"one\", \"open\", \"open\", \"page\", \"page\", \"pawn\", \"php\", \"php\", \"play\", \"player\", \"plugin\", \"plugin\", \"point\", \"point\", \"posit\", \"posit\", \"question\", \"question\", \"read\", \"read\", \"return\", \"return\", \"robot\", \"robot\", \"say\", \"say\", \"section\", \"section\", \"sensor\", \"sensor\", \"set\", \"set\", \"site\", \"site\", \"start\", \"start\", \"system\", \"system\", \"templat\", \"templat\", \"think\", \"think\", \"time\", \"time\", \"titl\", \"titl\", \"tri\", \"tri\", \"two\", \"two\", \"type\", \"type\", \"url\", \"url\", \"use\", \"use\", \"user\", \"user\", \"valu\", \"valu\", \"want\", \"want\", \"way\", \"way\", \"white\", \"work\", \"work\", \"would\", \"would\"]}, \"R\": 30, \"lambda.step\": 0.01, \"plot.opts\": {\"xlab\": \"PC1\", \"ylab\": \"PC2\"}, \"topic.order\": [1, 2]};\n",
       "\n",
       "function LDAvis_load_lib(url, callback){\n",
       "  var s = document.createElement('script');\n",
       "  s.src = url;\n",
       "  s.async = true;\n",
       "  s.onreadystatechange = s.onload = callback;\n",
       "  s.onerror = function(){console.warn(\"failed to load library \" + url);};\n",
       "  document.getElementsByTagName(\"head\")[0].appendChild(s);\n",
       "}\n",
       "\n",
       "if(typeof(LDAvis) !== \"undefined\"){\n",
       "   // already loaded: just create the visualization\n",
       "   !function(LDAvis){\n",
       "       new LDAvis(\"#\" + \"ldavis_el137247665833281498292645\", ldavis_el137247665833281498292645_data);\n",
       "   }(LDAvis);\n",
       "}else if(typeof define === \"function\" && define.amd){\n",
       "   // require.js is available: use it to load d3/LDAvis\n",
       "   require.config({paths: {d3: \"https://cdnjs.cloudflare.com/ajax/libs/d3/3.5.5/d3.min\"}});\n",
       "   require([\"d3\"], function(d3){\n",
       "      window.d3 = d3;\n",
       "      LDAvis_load_lib(\"https://cdn.rawgit.com/bmabey/pyLDAvis/files/ldavis.v1.0.0.js\", function(){\n",
       "        new LDAvis(\"#\" + \"ldavis_el137247665833281498292645\", ldavis_el137247665833281498292645_data);\n",
       "      });\n",
       "    });\n",
       "}else{\n",
       "    // require.js not available: dynamically load d3 & LDAvis\n",
       "    LDAvis_load_lib(\"https://cdnjs.cloudflare.com/ajax/libs/d3/3.5.5/d3.min.js\", function(){\n",
       "         LDAvis_load_lib(\"https://cdn.rawgit.com/bmabey/pyLDAvis/files/ldavis.v1.0.0.js\", function(){\n",
       "                 new LDAvis(\"#\" + \"ldavis_el137247665833281498292645\", ldavis_el137247665833281498292645_data);\n",
       "            })\n",
       "         });\n",
       "}\n",
       "</script>"
      ],
      "text/plain": [
       "PreparedData(topic_coordinates=              x    y  topics  cluster      Freq\n",
       "topic                                          \n",
       "0      0.188465  0.0       1        1  51.10211\n",
       "1     -0.188465  0.0       2        1  48.89789, topic_info=     Category         Freq      Term        Total  loglift  logprob\n",
       "term                                                               \n",
       "23    Default  3868.000000     entri  3868.000000  30.0000  30.0000\n",
       "16    Default  3640.000000     craft  3640.000000  29.0000  29.0000\n",
       "78    Default  2171.000000       set  2171.000000  28.0000  28.0000\n",
       "50    Default  2085.000000      move  2085.000000  27.0000  27.0000\n",
       "27    Default  1882.000000     field  1882.000000  26.0000  26.0000\n",
       "71    Default  1714.000000     robot  1714.000000  25.0000  25.0000\n",
       "60    Default  1634.000000      play  1634.000000  24.0000  24.0000\n",
       "34    Default  1595.000000      game  1595.000000  23.0000  23.0000\n",
       "9     Default  1476.000000     chess  1476.000000  22.0000  22.0000\n",
       "93    Default  1340.000000      user  1340.000000  21.0000  21.0000\n",
       "64    Default  1405.000000     posit  1405.000000  20.0000  20.0000\n",
       "49    Default  1271.000000     motor  1271.000000  19.0000  19.0000\n",
       "41    Default  1111.000000      imag  1111.000000  18.0000  18.0000\n",
       "57    Default  1103.000000      page  1103.000000  17.0000  17.0000\n",
       "59    Default  1080.000000       php  1080.000000  16.0000  16.0000\n",
       "24    Default  1023.000000     error  1023.000000  15.0000  15.0000\n",
       "90    Default  1234.000000      type  1234.000000  14.0000  14.0000\n",
       "10    Default   947.000000     class   947.000000  13.0000  13.0000\n",
       "83    Default   936.000000   templat   936.000000  12.0000  12.0000\n",
       "74    Default   933.000000   section   933.000000  11.0000  11.0000\n",
       "55    Default   988.000000      open   988.000000  10.0000  10.0000\n",
       "62    Default   914.000000    plugin   914.000000   9.0000   9.0000\n",
       "5     Default   971.000000     black   971.000000   8.0000   8.0000\n",
       "97    Default   952.000000     white   952.000000   7.0000   7.0000\n",
       "7     Default   857.000000  categori   857.000000   6.0000   6.0000\n",
       "32    Default   838.000000      form   838.000000   5.0000   5.0000\n",
       "51    Default  1237.000000      name  1237.000000   4.0000   4.0000\n",
       "91    Default   795.000000       url   795.000000   3.0000   3.0000\n",
       "11    Default   848.000000      code   848.000000   2.0000   2.0000\n",
       "6     Default   792.000000     block   792.000000   1.0000   1.0000\n",
       "...       ...          ...       ...          ...      ...      ...\n",
       "62     Topic2   913.993068    plugin   914.533735   0.7148  -4.1028\n",
       "41     Topic2  1110.893596      imag  1111.564623   0.7148  -3.9077\n",
       "7      Topic2   857.425064  categori   857.960787   0.7148  -4.1667\n",
       "74     Topic2   932.973076   section   933.582015   0.7148  -4.0822\n",
       "10     Topic2   946.853295     class   947.472175   0.7148  -4.0675\n",
       "91     Topic2   794.848033       url   795.372400   0.7148  -4.2424\n",
       "24     Topic2  1023.160243     error  1023.928044   0.7147  -3.9899\n",
       "21     Topic2   685.623329       div   686.140490   0.7147  -4.3903\n",
       "4      Topic2   681.487432     asset   682.017850   0.7147  -4.3963\n",
       "13     Topic2   667.989571   content   668.530470   0.7146  -4.4163\n",
       "3      Topic2   719.374403     array   720.026705   0.7145  -4.3422\n",
       "32     Topic2   838.028473      form   838.850322   0.7145  -4.1895\n",
       "6      Topic2   791.523792     block   792.307389   0.7144  -4.2466\n",
       "69     Topic2   598.655613    return   599.509457   0.7140  -4.5259\n",
       "78     Topic2  2162.094848       set  2171.491605   0.7111  -3.2418\n",
       "45     Topic2   660.787934     local   666.776233   0.7064  -4.4272\n",
       "11     Topic2   840.067310      code   848.510077   0.7054  -4.1871\n",
       "90     Topic2  1193.002008      type  1234.220023   0.6815  -3.8364\n",
       "79     Topic2   878.392251      site   940.859663   0.6467  -4.1425\n",
       "51     Topic2  1150.631318      name  1237.638039   0.6425  -3.8725\n",
       "87     Topic2   765.048955      titl   844.836923   0.6162  -4.2807\n",
       "39     Topic2   700.941006      http   781.451374   0.6067  -4.3682\n",
       "94     Topic2   826.427367      valu   968.193783   0.5571  -4.2035\n",
       "98     Topic2  1030.081914      work  1673.612108   0.2301  -3.9832\n",
       "88     Topic2  1003.530584       tri  1703.425763   0.1863  -4.0093\n",
       "35     Topic2  1063.028958       get  1930.854957   0.1186  -3.9517\n",
       "92     Topic2  1294.338266       use  4142.350933  -0.4478  -3.7548\n",
       "17     Topic2   733.989489     creat   885.174473   0.5281  -4.3221\n",
       "96     Topic2   790.410788       way  1603.539048   0.0080  -4.2480\n",
       "43     Topic2   813.524190      like  2664.729409  -0.4710  -4.2192\n",
       "\n",
       "[108 rows x 6 columns], token_table=      Topic      Freq      Term\n",
       "term                           \n",
       "1         1  0.768918      also\n",
       "1         2  0.231064      also\n",
       "2         1  0.848913       amp\n",
       "2         2  0.151772       amp\n",
       "3         1  0.001389     array\n",
       "3         2  0.998574     array\n",
       "4         1  0.001466     asset\n",
       "4         2  0.998508     asset\n",
       "5         1  0.999685     black\n",
       "6         1  0.001262     block\n",
       "6         2  0.999612     block\n",
       "7         1  0.001166  categori\n",
       "7         2  0.998880  categori\n",
       "9         1  0.999874     chess\n",
       "10        1  0.001055     class\n",
       "10        2  0.999502     class\n",
       "11        1  0.009428      code\n",
       "11        2  0.989971      code\n",
       "13        1  0.001496   content\n",
       "13        2  0.999207   content\n",
       "14        1  0.781856   control\n",
       "14        2  0.217845   control\n",
       "15        1  0.777766     could\n",
       "15        2  0.221800     could\n",
       "16        1  0.000275     craft\n",
       "16        2  0.999932     craft\n",
       "17        1  0.170588     creat\n",
       "17        2  0.829215     creat\n",
       "20        1  0.783424    differ\n",
       "20        2  0.216540    differ\n",
       "...     ...       ...       ...\n",
       "83        2  0.999471   templat\n",
       "85        1  0.931607     think\n",
       "85        2  0.068018     think\n",
       "86        1  0.910515      time\n",
       "86        2  0.089336      time\n",
       "87        1  0.094693      titl\n",
       "87        2  0.905500      titl\n",
       "88        1  0.410937       tri\n",
       "88        2  0.589401       tri\n",
       "89        1  0.851063       two\n",
       "89        2  0.148633       two\n",
       "90        1  0.033219      type\n",
       "90        2  0.966602      type\n",
       "91        1  0.001257       url\n",
       "91        2  0.999532       url\n",
       "92        1  0.687532       use\n",
       "92        2  0.312383       use\n",
       "93        1  0.000746      user\n",
       "93        2  0.999889      user\n",
       "94        1  0.146665      valu\n",
       "94        2  0.853135      valu\n",
       "95        1  0.605027      want\n",
       "95        2  0.394939      want\n",
       "96        1  0.507004       way\n",
       "96        2  0.492660       way\n",
       "97        1  0.999042     white\n",
       "98        1  0.384796      work\n",
       "98        2  0.615435      work\n",
       "99        1  0.805486     would\n",
       "99        2  0.194574     would\n",
       "\n",
       "[141 rows x 3 columns], R=30, lambda_step=0.01, plot_opts={'xlab': 'PC1', 'ylab': 'PC2'}, topic_order=[1, 2])"
      ]
     },
     "execution_count": 129,
     "metadata": {},
     "output_type": "execute_result"
    }
   ],
   "source": [
    "pyLDAvis.sklearn.prepare(lda_tf, X_tf, tf_vectorizer)\n",
    "# pyLDAvis.sklearn.prepare(lda_tf, dtm_tf, tf_vectorizer, mds='tsne')"
   ]
  },
  {
   "cell_type": "code",
   "execution_count": 130,
   "metadata": {},
   "outputs": [
    {
     "data": {
      "text/html": [
       "\n",
       "<link rel=\"stylesheet\" type=\"text/css\" href=\"https://cdn.rawgit.com/bmabey/pyLDAvis/files/ldavis.v1.0.0.css\">\n",
       "\n",
       "\n",
       "<div id=\"ldavis_el137248734361607243426771\"></div>\n",
       "<script type=\"text/javascript\">\n",
       "\n",
       "var ldavis_el137248734361607243426771_data = {\"mdsDat\": {\"x\": [0.21520679594127695, -0.21520679594127695], \"y\": [0.0, 0.0], \"topics\": [1, 2], \"cluster\": [1, 1], \"Freq\": [53.33497195313862, 46.66502804686139]}, \"tinfo\": {\"Category\": [\"Default\", \"Default\", \"Default\", \"Default\", \"Default\", \"Default\", \"Default\", \"Default\", \"Default\", \"Default\", \"Default\", \"Default\", \"Default\", \"Default\", \"Default\", \"Default\", \"Default\", \"Default\", \"Default\", \"Default\", \"Default\", \"Default\", \"Default\", \"Default\", \"Default\", \"Default\", \"Default\", \"Default\", \"Default\", \"Default\", \"Topic1\", \"Topic1\", \"Topic1\", \"Topic1\", \"Topic1\", \"Topic1\", \"Topic1\", \"Topic1\", \"Topic1\", \"Topic1\", \"Topic1\", \"Topic1\", \"Topic1\", \"Topic1\", \"Topic1\", \"Topic1\", \"Topic1\", \"Topic1\", \"Topic1\", \"Topic1\", \"Topic1\", \"Topic1\", \"Topic1\", \"Topic1\", \"Topic1\", \"Topic1\", \"Topic1\", \"Topic1\", \"Topic1\", \"Topic1\", \"Topic1\", \"Topic1\", \"Topic1\", \"Topic1\", \"Topic1\", \"Topic1\", \"Topic1\", \"Topic1\", \"Topic1\", \"Topic1\", \"Topic1\", \"Topic1\", \"Topic1\", \"Topic1\", \"Topic2\", \"Topic2\", \"Topic2\", \"Topic2\", \"Topic2\", \"Topic2\", \"Topic2\", \"Topic2\", \"Topic2\", \"Topic2\", \"Topic2\", \"Topic2\", \"Topic2\", \"Topic2\", \"Topic2\", \"Topic2\", \"Topic2\", \"Topic2\", \"Topic2\", \"Topic2\", \"Topic2\", \"Topic2\", \"Topic2\", \"Topic2\", \"Topic2\", \"Topic2\", \"Topic2\", \"Topic2\", \"Topic2\", \"Topic2\", \"Topic2\", \"Topic2\", \"Topic2\", \"Topic2\"], \"Freq\": [404.0, 317.0, 293.0, 282.0, 279.0, 337.0, 209.0, 257.0, 297.0, 236.0, 191.0, 226.0, 257.0, 216.0, 173.0, 170.0, 153.0, 187.0, 191.0, 156.0, 148.0, 181.0, 192.0, 191.0, 131.0, 159.0, 130.0, 157.0, 155.0, 151.0, 403.545223729281, 337.1447491962311, 226.18491134660195, 186.74503076692366, 236.20969219187086, 151.39799750048851, 181.18036603216692, 156.68807984546666, 158.8004037066312, 131.74613342065996, 132.39845571421802, 120.5440408545563, 255.76152463221942, 107.4854843805271, 102.80135688874884, 103.01972143736488, 117.85424290310873, 109.44231555964659, 106.92785985995086, 123.48378720433259, 126.26769304422885, 190.15636156279152, 91.18135222927425, 138.1107656535868, 101.34945899984348, 114.09873091179654, 89.5337106785586, 102.70393010516412, 85.77697692197422, 76.81934672010475, 144.32178237850184, 100.26871714995329, 143.83544509286335, 128.9554784204196, 196.41781673568101, 113.05077631758645, 115.81359611061094, 189.86840168712718, 139.7910170558094, 157.71664287107214, 238.62247964398819, 162.710395522556, 162.35807949797265, 146.80732156997595, 317.2852557491191, 292.93538801064705, 282.17445574883095, 279.25642201257824, 208.65531763634516, 190.51174411006085, 172.87049511199567, 170.06126839323233, 148.2492206876586, 153.23881625411516, 130.8180240615673, 129.90343802182866, 154.985721917353, 121.57386994056645, 111.7942892309788, 207.5134432898434, 149.35612691100167, 133.4033731104059, 103.0351846973714, 180.99412159054165, 176.88360332067987, 238.22472828411702, 274.98974434822236, 101.83903514676577, 110.36547533966315, 142.96343563370695, 154.29793101841665, 130.183286153813, 134.74369398928053, 158.4092320556719, 270.7910654554577, 239.68238840615808, 234.77139256075478, 130.9392178758471], \"Term\": [\"entri\", \"move\", \"chess\", \"play\", \"game\", \"craft\", \"posit\", \"robot\", \"one\", \"set\", \"open\", \"field\", \"know\", \"time\", \"white\", \"black\", \"mean\", \"user\", \"control\", \"say\", \"player\", \"motor\", \"differ\", \"question\", \"pawn\", \"page\", \"good\", \"imag\", \"two\", \"plugin\", \"entri\", \"craft\", \"field\", \"user\", \"set\", \"plugin\", \"motor\", \"imag\", \"page\", \"templat\", \"error\", \"section\", \"robot\", \"url\", \"php\", \"asset\", \"data\", \"code\", \"categori\", \"http\", \"form\", \"control\", \"content\", \"creat\", \"local\", \"valu\", \"block\", \"function\", \"return\", \"array\", \"type\", \"sensor\", \"site\", \"file\", \"work\", \"system\", \"current\", \"need\", \"name\", \"tri\", \"use\", \"get\", \"way\", \"want\", \"move\", \"chess\", \"play\", \"game\", \"posit\", \"open\", \"white\", \"black\", \"player\", \"mean\", \"pawn\", \"good\", \"say\", \"point\", \"read\", \"time\", \"two\", \"think\", \"even\", \"differ\", \"question\", \"know\", \"one\", \"line\", \"start\", \"could\", \"find\", \"also\", \"make\", \"look\", \"would\", \"like\", \"use\", \"seem\"], \"Total\": [404.0, 317.0, 293.0, 282.0, 279.0, 337.0, 209.0, 257.0, 297.0, 236.0, 191.0, 226.0, 257.0, 216.0, 173.0, 170.0, 153.0, 187.0, 191.0, 156.0, 148.0, 181.0, 192.0, 191.0, 131.0, 159.0, 130.0, 157.0, 155.0, 151.0, 404.1109461925823, 337.7088049614928, 226.75671554256184, 187.33029776941353, 236.98885305630975, 151.95775125902026, 181.86885054222387, 157.30526662400658, 159.42762642001637, 132.30625575736383, 133.00819099702363, 121.1258945204667, 257.03946686143496, 108.03440265504585, 103.35439669550848, 103.57460225401829, 118.52736344052305, 110.07173035409053, 107.54409318765794, 124.20743545007434, 127.00891904333477, 191.27693827164214, 91.75244027643545, 139.02122620715534, 102.01810001269307, 114.87551128107636, 90.17091658217346, 103.44650561948147, 86.39979301270101, 77.3782177625527, 145.68463631899806, 101.15270903753552, 146.03923871894455, 131.53807129645685, 210.78482825456655, 115.63354390725686, 119.11843742973583, 216.57200910717268, 160.0977974662926, 213.28125811256146, 473.39387220474293, 239.60304649227726, 255.4933877663368, 221.76035092917542, 317.81890594828576, 293.4319850226437, 282.67184353938194, 279.75093623779975, 209.21331371997613, 191.05263243139976, 173.36143407060578, 170.55324201542248, 148.73828290041976, 153.80421615210642, 131.3071314642924, 130.66983107334727, 156.1930623803457, 124.73399132230176, 115.29206134729155, 216.20401915309958, 155.95992457700928, 139.78475219414784, 108.95306596899239, 192.2586166408596, 191.02685327381778, 257.38418339920804, 297.55929537493057, 112.30018704629606, 123.09287800817584, 176.34618259785327, 196.06229189102996, 166.0162615452801, 178.50139258319578, 215.27526719892091, 373.1062016253553, 351.11586509841703, 473.39387220474293, 178.81080395379584], \"loglift\": [30.0, 29.0, 28.0, 27.0, 26.0, 25.0, 24.0, 23.0, 22.0, 21.0, 20.0, 19.0, 18.0, 17.0, 16.0, 15.0, 14.0, 13.0, 12.0, 11.0, 10.0, 9.0, 8.0, 7.0, 6.0, 5.0, 4.0, 3.0, 2.0, 1.0, 0.6272, 0.6269, 0.6261, 0.6254, 0.6253, 0.6249, 0.6248, 0.6246, 0.6246, 0.6243, 0.624, 0.6238, 0.6236, 0.6235, 0.6232, 0.6232, 0.6229, 0.6228, 0.6228, 0.6227, 0.6227, 0.6227, 0.6223, 0.622, 0.622, 0.6218, 0.6215, 0.6214, 0.6213, 0.6213, 0.6192, 0.6198, 0.6134, 0.6087, 0.558, 0.606, 0.6004, 0.497, 0.4929, 0.3268, -0.0565, 0.2416, 0.1752, 0.2161, 0.7605, 0.7605, 0.7604, 0.7604, 0.7595, 0.7593, 0.7593, 0.7593, 0.7589, 0.7585, 0.7584, 0.7563, 0.7544, 0.7365, 0.7314, 0.7211, 0.7189, 0.7154, 0.7063, 0.7018, 0.6853, 0.6848, 0.6833, 0.6644, 0.653, 0.5523, 0.5226, 0.519, 0.481, 0.4554, 0.4417, 0.3804, 0.0609, 0.4506], \"logprob\": [30.0, 29.0, 28.0, 27.0, 26.0, 25.0, 24.0, 23.0, 22.0, 21.0, 20.0, 19.0, 18.0, 17.0, 16.0, 15.0, 14.0, 13.0, 12.0, 11.0, 10.0, 9.0, 8.0, 7.0, 6.0, 5.0, 4.0, 3.0, 2.0, 1.0, -3.0909, -3.2707, -3.6698, -3.8614, -3.6265, -4.0713, -3.8917, -4.0369, -4.0235, -4.2103, -4.2054, -4.2992, -3.5469, -4.4138, -4.4584, -4.4563, -4.3217, -4.3958, -4.419, -4.2751, -4.2528, -3.8433, -4.5783, -4.1631, -4.4726, -4.3541, -4.5966, -4.4593, -4.6394, -4.7497, -4.1191, -4.4833, -4.1225, -4.2317, -3.8109, -4.3633, -4.3392, -3.8449, -4.151, -4.0304, -3.6163, -3.9992, -4.0014, -4.1021, -3.1978, -3.2776, -3.3151, -3.3255, -3.6169, -3.7079, -3.805, -3.8214, -3.9587, -3.9256, -4.0838, -4.0908, -3.9143, -4.1571, -4.2409, -3.6224, -3.9513, -4.0642, -4.3225, -3.7591, -3.7821, -3.4844, -3.3409, -4.3342, -4.2538, -3.995, -3.9187, -4.0886, -4.0542, -3.8924, -3.3562, -3.4783, -3.499, -4.0829]}, \"token.table\": {\"Topic\": [1, 2, 1, 2, 1, 2, 2, 1, 2, 1, 2, 2, 1, 2, 1, 2, 1, 2, 1, 2, 1, 2, 1, 2, 1, 2, 1, 2, 1, 2, 1, 2, 1, 2, 1, 2, 1, 2, 1, 2, 1, 2, 1, 2, 1, 2, 2, 1, 2, 1, 2, 1, 2, 1, 2, 1, 2, 1, 2, 1, 2, 1, 2, 1, 2, 1, 2, 1, 2, 1, 2, 1, 2, 1, 2, 1, 2, 1, 2, 1, 2, 1, 2, 2, 1, 2, 2, 2, 1, 2, 1, 2, 1, 2, 1, 2, 1, 2, 1, 2, 1, 2, 1, 2, 1, 2, 1, 2, 1, 2, 1, 2, 1, 2, 1, 2, 1, 2, 1, 2, 1, 2, 1, 2, 1, 2, 1, 2, 1, 2, 1, 2, 1, 2, 1, 2, 1, 2, 1, 2, 1, 2, 2, 1, 2, 1, 2], \"Freq\": [0.21684622738105197, 0.7830558210982432, 0.9951120900236639, 0.012923533636670958, 0.9944522861636576, 0.009654876564695703, 0.9967561917388092, 0.9981045265075275, 0.011090050294528083, 0.9949407431730488, 0.009298511618439708, 0.998527818899462, 0.9902633459958985, 0.009084984825650445, 0.9917992341765683, 0.010898892683258993, 0.9933241388994386, 0.0052280217836812555, 0.1871319215072236, 0.8109049931979689, 0.9979011356793803, 0.0029611309664076568, 0.9926541706254727, 0.0071931461639527005, 0.9738206989864578, 0.02518501807723598, 0.9955507030173022, 0.008436870364553409, 0.057214600792369556, 0.9414402494017172, 0.9997254561064788, 0.002474567960659601, 0.9924200833838407, 0.007518333965029096, 0.055069583830780644, 0.9453611890950677, 0.9966628748315073, 0.004410012720493395, 0.9807046638935688, 0.02280708520682718, 0.21421763254375964, 0.785464652660452, 0.9920563134389756, 0.007873462805071235, 0.9956837051497525, 0.009666832088832547, 0.9973156971415409, 0.6802918509855163, 0.32136486212199233, 0.0076528758917479775, 0.994873865927237, 0.9902788794752978, 0.008051047800612178, 0.9980593998499985, 0.006357066241082793, 0.07381960984964883, 0.9246877444324433, 0.31613496009041614, 0.683535048844143, 0.08904704669705912, 0.9082798763100032, 0.9900203982179006, 0.009802182160573273, 0.26477728139261936, 0.7339440431584887, 0.24649667637462558, 0.7562966206948739, 0.006501772350707465, 0.9947711696582421, 0.995222653359091, 0.0054984676981165255, 0.0031464459202521955, 0.997423356719946, 0.8744654968128213, 0.12492364240183161, 0.8773063554393898, 0.12466985050980803, 0.07729551843110646, 0.9241855464588817, 0.005234159756260174, 0.9997245134456932, 0.9973177395309784, 0.006272438613402379, 0.9976609688988908, 0.9965710535125799, 0.009675447121481358, 0.9976232385547508, 0.9950363626228357, 0.9936972530122026, 0.006580776510014587, 0.024051182586214703, 0.9780814251727312, 0.004779810530310996, 0.9989804008349983, 0.07328812551778995, 0.9265713011892014, 0.026020872252107377, 0.9714458974120087, 0.9953727549712736, 0.011574101801991553, 0.9959560028888664, 0.0038904531362846345, 0.006402333015053512, 0.9923616173332943, 0.998960630829889, 0.008255872982065197, 0.2684401553968912, 0.7326179241040155, 0.9886042692429743, 0.009886042692429743, 0.9958274279842403, 0.004219607745695933, 0.9860363643577388, 0.013694949504968594, 0.10561130920292999, 0.893634154794023, 0.9772250869577337, 0.025944028857284963, 0.9976852511197545, 0.00755822159939208, 0.04292313650680988, 0.9514628592342858, 0.04162734825769761, 0.962054270844567, 0.7408058326278899, 0.26256409257697366, 0.04488332511691853, 0.9553736346315516, 0.988436417445493, 0.006864141787815923, 0.9904252476097942, 0.00925631072532518, 0.5048650057232521, 0.4964153821965031, 0.9982368160764892, 0.005338164791852883, 0.9923786081880048, 0.008705075510421096, 0.6628777388927746, 0.33820292800651763, 0.6340672900237958, 0.36400159242106794, 0.9979151414353288, 0.9298581953122793, 0.06641844252230567, 0.27338060733287034, 0.726334750854979], \"Term\": [\"also\", \"also\", \"array\", \"array\", \"asset\", \"asset\", \"black\", \"block\", \"block\", \"categori\", \"categori\", \"chess\", \"code\", \"code\", \"content\", \"content\", \"control\", \"control\", \"could\", \"could\", \"craft\", \"craft\", \"creat\", \"creat\", \"current\", \"current\", \"data\", \"data\", \"differ\", \"differ\", \"entri\", \"entri\", \"error\", \"error\", \"even\", \"even\", \"field\", \"field\", \"file\", \"file\", \"find\", \"find\", \"form\", \"form\", \"function\", \"function\", \"game\", \"get\", \"get\", \"good\", \"good\", \"http\", \"http\", \"imag\", \"imag\", \"know\", \"know\", \"like\", \"like\", \"line\", \"line\", \"local\", \"local\", \"look\", \"look\", \"make\", \"make\", \"mean\", \"mean\", \"motor\", \"motor\", \"move\", \"move\", \"name\", \"name\", \"need\", \"need\", \"one\", \"one\", \"open\", \"open\", \"page\", \"page\", \"pawn\", \"php\", \"php\", \"play\", \"player\", \"plugin\", \"plugin\", \"point\", \"point\", \"posit\", \"posit\", \"question\", \"question\", \"read\", \"read\", \"return\", \"return\", \"robot\", \"robot\", \"say\", \"say\", \"section\", \"section\", \"seem\", \"seem\", \"sensor\", \"sensor\", \"set\", \"set\", \"site\", \"site\", \"start\", \"start\", \"system\", \"system\", \"templat\", \"templat\", \"think\", \"think\", \"time\", \"time\", \"tri\", \"tri\", \"two\", \"two\", \"type\", \"type\", \"url\", \"url\", \"use\", \"use\", \"user\", \"user\", \"valu\", \"valu\", \"want\", \"want\", \"way\", \"way\", \"white\", \"work\", \"work\", \"would\", \"would\"]}, \"R\": 30, \"lambda.step\": 0.01, \"plot.opts\": {\"xlab\": \"PC1\", \"ylab\": \"PC2\"}, \"topic.order\": [2, 1]};\n",
       "\n",
       "function LDAvis_load_lib(url, callback){\n",
       "  var s = document.createElement('script');\n",
       "  s.src = url;\n",
       "  s.async = true;\n",
       "  s.onreadystatechange = s.onload = callback;\n",
       "  s.onerror = function(){console.warn(\"failed to load library \" + url);};\n",
       "  document.getElementsByTagName(\"head\")[0].appendChild(s);\n",
       "}\n",
       "\n",
       "if(typeof(LDAvis) !== \"undefined\"){\n",
       "   // already loaded: just create the visualization\n",
       "   !function(LDAvis){\n",
       "       new LDAvis(\"#\" + \"ldavis_el137248734361607243426771\", ldavis_el137248734361607243426771_data);\n",
       "   }(LDAvis);\n",
       "}else if(typeof define === \"function\" && define.amd){\n",
       "   // require.js is available: use it to load d3/LDAvis\n",
       "   require.config({paths: {d3: \"https://cdnjs.cloudflare.com/ajax/libs/d3/3.5.5/d3.min\"}});\n",
       "   require([\"d3\"], function(d3){\n",
       "      window.d3 = d3;\n",
       "      LDAvis_load_lib(\"https://cdn.rawgit.com/bmabey/pyLDAvis/files/ldavis.v1.0.0.js\", function(){\n",
       "        new LDAvis(\"#\" + \"ldavis_el137248734361607243426771\", ldavis_el137248734361607243426771_data);\n",
       "      });\n",
       "    });\n",
       "}else{\n",
       "    // require.js not available: dynamically load d3 & LDAvis\n",
       "    LDAvis_load_lib(\"https://cdnjs.cloudflare.com/ajax/libs/d3/3.5.5/d3.min.js\", function(){\n",
       "         LDAvis_load_lib(\"https://cdn.rawgit.com/bmabey/pyLDAvis/files/ldavis.v1.0.0.js\", function(){\n",
       "                 new LDAvis(\"#\" + \"ldavis_el137248734361607243426771\", ldavis_el137248734361607243426771_data);\n",
       "            })\n",
       "         });\n",
       "}\n",
       "</script>"
      ],
      "text/plain": [
       "PreparedData(topic_coordinates=              x    y  topics  cluster       Freq\n",
       "topic                                           \n",
       "1      0.215207  0.0       1        1  53.334972\n",
       "0     -0.215207  0.0       2        1  46.665028, topic_info=     Category        Freq      Term       Total  loglift  logprob\n",
       "term                                                             \n",
       "23    Default  404.000000     entri  404.000000  30.0000  30.0000\n",
       "50    Default  317.000000      move  317.000000  29.0000  29.0000\n",
       "9     Default  293.000000     chess  293.000000  28.0000  28.0000\n",
       "60    Default  282.000000      play  282.000000  27.0000  27.0000\n",
       "34    Default  279.000000      game  279.000000  26.0000  26.0000\n",
       "16    Default  337.000000     craft  337.000000  25.0000  25.0000\n",
       "64    Default  209.000000     posit  209.000000  24.0000  24.0000\n",
       "71    Default  257.000000     robot  257.000000  23.0000  23.0000\n",
       "54    Default  297.000000       one  297.000000  22.0000  22.0000\n",
       "78    Default  236.000000       set  236.000000  21.0000  21.0000\n",
       "55    Default  191.000000      open  191.000000  20.0000  20.0000\n",
       "27    Default  226.000000     field  226.000000  19.0000  19.0000\n",
       "42    Default  257.000000      know  257.000000  18.0000  18.0000\n",
       "86    Default  216.000000      time  216.000000  17.0000  17.0000\n",
       "97    Default  173.000000     white  173.000000  16.0000  16.0000\n",
       "5     Default  170.000000     black  170.000000  15.0000  15.0000\n",
       "48    Default  153.000000      mean  153.000000  14.0000  14.0000\n",
       "93    Default  187.000000      user  187.000000  13.0000  13.0000\n",
       "14    Default  191.000000   control  191.000000  12.0000  12.0000\n",
       "73    Default  156.000000       say  156.000000  11.0000  11.0000\n",
       "61    Default  148.000000    player  148.000000  10.0000  10.0000\n",
       "49    Default  181.000000     motor  181.000000   9.0000   9.0000\n",
       "20    Default  192.000000    differ  192.000000   8.0000   8.0000\n",
       "67    Default  191.000000  question  191.000000   7.0000   7.0000\n",
       "58    Default  131.000000      pawn  131.000000   6.0000   6.0000\n",
       "57    Default  159.000000      page  159.000000   5.0000   5.0000\n",
       "36    Default  130.000000      good  130.000000   4.0000   4.0000\n",
       "41    Default  157.000000      imag  157.000000   3.0000   3.0000\n",
       "89    Default  155.000000       two  155.000000   2.0000   2.0000\n",
       "62    Default  151.000000    plugin  151.000000   1.0000   1.0000\n",
       "...       ...         ...       ...         ...      ...      ...\n",
       "64     Topic2  208.655318     posit  209.213314   0.7595  -3.6169\n",
       "55     Topic2  190.511744      open  191.052632   0.7593  -3.7079\n",
       "97     Topic2  172.870495     white  173.361434   0.7593  -3.8050\n",
       "5      Topic2  170.061268     black  170.553242   0.7593  -3.8214\n",
       "61     Topic2  148.249221    player  148.738283   0.7589  -3.9587\n",
       "48     Topic2  153.238816      mean  153.804216   0.7585  -3.9256\n",
       "58     Topic2  130.818024      pawn  131.307131   0.7584  -4.0838\n",
       "36     Topic2  129.903438      good  130.669831   0.7563  -4.0908\n",
       "73     Topic2  154.985722       say  156.193062   0.7544  -3.9143\n",
       "63     Topic2  121.573870     point  124.733991   0.7365  -4.1571\n",
       "68     Topic2  111.794289      read  115.292061   0.7314  -4.2409\n",
       "86     Topic2  207.513443      time  216.204019   0.7211  -3.6224\n",
       "89     Topic2  149.356127       two  155.959925   0.7189  -3.9513\n",
       "85     Topic2  133.403373     think  139.784752   0.7154  -4.0642\n",
       "25     Topic2  103.035185      even  108.953066   0.7063  -4.3225\n",
       "20     Topic2  180.994122    differ  192.258617   0.7018  -3.7591\n",
       "67     Topic2  176.883603  question  191.026853   0.6853  -3.7821\n",
       "42     Topic2  238.224728      know  257.384183   0.6848  -3.4844\n",
       "54     Topic2  274.989744       one  297.559295   0.6833  -3.3409\n",
       "44     Topic2  101.839035      line  112.300187   0.6644  -4.3342\n",
       "81     Topic2  110.365475     start  123.092878   0.6530  -4.2538\n",
       "15     Topic2  142.963436     could  176.346183   0.5523  -3.9950\n",
       "29     Topic2  154.297931      find  196.062292   0.5226  -3.9187\n",
       "1      Topic2  130.183286      also  166.016262   0.5190  -4.0886\n",
       "47     Topic2  134.743694      make  178.501393   0.4810  -4.0542\n",
       "46     Topic2  158.409232      look  215.275267   0.4554  -3.8924\n",
       "99     Topic2  270.791065     would  373.106202   0.4417  -3.3562\n",
       "43     Topic2  239.682388      like  351.115865   0.3804  -3.4783\n",
       "92     Topic2  234.771393       use  473.393872   0.0609  -3.4990\n",
       "76     Topic2  130.939218      seem  178.810804   0.4506  -4.0829\n",
       "\n",
       "[108 rows x 6 columns], token_table=      Topic      Freq      Term\n",
       "term                           \n",
       "1         1  0.216846      also\n",
       "1         2  0.783056      also\n",
       "3         1  0.995112     array\n",
       "3         2  0.012924     array\n",
       "4         1  0.994452     asset\n",
       "4         2  0.009655     asset\n",
       "5         2  0.996756     black\n",
       "6         1  0.998105     block\n",
       "6         2  0.011090     block\n",
       "7         1  0.994941  categori\n",
       "7         2  0.009299  categori\n",
       "9         2  0.998528     chess\n",
       "11        1  0.990263      code\n",
       "11        2  0.009085      code\n",
       "13        1  0.991799   content\n",
       "13        2  0.010899   content\n",
       "14        1  0.993324   control\n",
       "14        2  0.005228   control\n",
       "15        1  0.187132     could\n",
       "15        2  0.810905     could\n",
       "16        1  0.997901     craft\n",
       "16        2  0.002961     craft\n",
       "17        1  0.992654     creat\n",
       "17        2  0.007193     creat\n",
       "18        1  0.973821   current\n",
       "18        2  0.025185   current\n",
       "19        1  0.995551      data\n",
       "19        2  0.008437      data\n",
       "20        1  0.057215    differ\n",
       "20        2  0.941440    differ\n",
       "...     ...       ...       ...\n",
       "82        2  0.025944    system\n",
       "83        1  0.997685   templat\n",
       "83        2  0.007558   templat\n",
       "85        1  0.042923     think\n",
       "85        2  0.951463     think\n",
       "86        1  0.041627      time\n",
       "86        2  0.962054      time\n",
       "88        1  0.740806       tri\n",
       "88        2  0.262564       tri\n",
       "89        1  0.044883       two\n",
       "89        2  0.955374       two\n",
       "90        1  0.988436      type\n",
       "90        2  0.006864      type\n",
       "91        1  0.990425       url\n",
       "91        2  0.009256       url\n",
       "92        1  0.504865       use\n",
       "92        2  0.496415       use\n",
       "93        1  0.998237      user\n",
       "93        2  0.005338      user\n",
       "94        1  0.992379      valu\n",
       "94        2  0.008705      valu\n",
       "95        1  0.662878      want\n",
       "95        2  0.338203      want\n",
       "96        1  0.634067       way\n",
       "96        2  0.364002       way\n",
       "97        2  0.997915     white\n",
       "98        1  0.929858      work\n",
       "98        2  0.066418      work\n",
       "99        1  0.273381     would\n",
       "99        2  0.726335     would\n",
       "\n",
       "[147 rows x 3 columns], R=30, lambda_step=0.01, plot_opts={'xlab': 'PC1', 'ylab': 'PC2'}, topic_order=[2, 1])"
      ]
     },
     "execution_count": 130,
     "metadata": {},
     "output_type": "execute_result"
    }
   ],
   "source": [
    "pyLDAvis.sklearn.prepare(lda_tfidf, X_tfidf, tfidf_vectorizer)"
   ]
  },
  {
   "cell_type": "code",
   "execution_count": 131,
   "metadata": {},
   "outputs": [],
   "source": [
    "def display_topics(model, feature_names, no_top_words, topic_word_prob, feature_names_set):\n",
    "    for topic_idx, topic in enumerate(model.components_):\n",
    "#         print(\"Topic %d:\" % (topic_idx))\n",
    "        top_features = []\n",
    "        if topic_idx not in topic_word_prob:\n",
    "            topic_word_prob[topic_idx] = []\n",
    "        top_features = [(feature_names[i], topic[i]) for i in topic.argsort()[:-no_top_words - 1:-1]]\n",
    "        topic_word_prob[topic_idx] = top_features\n",
    "#         print(\" \".join(top_features))\n",
    "        feature_set = set([val[0] for val in top_features])\n",
    "        feature_names_set.update(feature_set)\n",
    "        print(\"Topic %d:\" % (topic_idx))\n",
    "        print(\", \".join([val[0] for val in top_features]))\n",
    "    return topic_word_prob, feature_names_set"
   ]
  },
  {
   "cell_type": "code",
   "execution_count": 132,
   "metadata": {},
   "outputs": [
    {
     "name": "stdout",
     "output_type": "stream",
     "text": [
      "Topic 0:\n",
      "use, would, move, like, robot, one, play, game, chess, posit, know, time, motor, question, control, open, black, need, white, make, want, look, get, amp, way, could, also, player, two, pawn, think, differ, find, seem, start, tri, possibl, point, work, system, problem, good, sensor, exampl, say, follow, mean, read, see, help, someth, even, current, first, line, howev, abl, right, idea, end, thank, new, run, chang, data, com, creat, file, valu, function, output, name, http, titl, site, type, set, code, local, return, form, block, error, imag, array, page, class, section, user, field, content, plugin, categori, entri, templat, craft, asset, url, php, div\n",
      "Topic 1:\n",
      "entri, craft, set, field, user, use, type, name, imag, page, php, get, work, error, tri, class, templat, section, plugin, site, categori, code, form, valu, like, url, block, way, titl, creat, array, http, div, asset, content, local, file, com, return, want, would, function, new, need, data, output, first, exampl, one, follow, look, find, someth, current, possibl, thank, chang, end, seem, see, control, run, also, could, differ, help, abl, howev, idea, problem, make, know, right, line, question, amp, two, time, say, even, point, think, start, system, read, mean, good, motor, open, posit, robot, move, sensor, play, game, white, chess, player, pawn, black\n"
     ]
    }
   ],
   "source": [
    "no_top_words = 100\n",
    "topic_word_prob = {}\n",
    "feature_names_set = set()\n",
    "topic_word_prob, feature_names_set = display_topics(lda, tf_feature_names, no_top_words, topic_word_prob, feature_names_set)\n",
    "feature_names_list = list(feature_names_set)"
   ]
  },
  {
   "cell_type": "code",
   "execution_count": 133,
   "metadata": {},
   "outputs": [
    {
     "name": "stdout",
     "output_type": "stream",
     "text": [
      "{0: [('use', 2775.5176540149055), ('would', 2223.1053025515084), ('move', 2031.628355799887), ('like', 1804.0835374230312), ('robot', 1670.7705765958103), ('one', 1621.491722292872), ('play', 1592.8593973567295), ('game', 1554.630376988787), ('chess', 1438.1433004648786), ('posit', 1369.4069074417728), ('know', 1278.8279944532185), ('time', 1241.840224277875), ('motor', 1237.3461011874501), ('question', 1078.9721561656825), ('control', 1021.3632235521964), ('open', 962.3166499384926), ('black', 946.1192562083041), ('need', 936.2592836250654), ('white', 928.1880972254155), ('make', 883.8918920990906), ('want', 864.074183567241), ('look', 862.320946900028), ('get', 845.7358385610067), ('amp', 817.1780447844216), ('way', 792.4304075370324), ('could', 775.9432452404782), ('also', 772.2546974956672), ('player', 762.5030226178554), ('two', 753.7943782269708), ('pawn', 749.0761342902363), ('think', 747.6280734345357), ('differ', 747.2623674892313), ('find', 744.2698435467739), ('seem', 725.0645911148151), ('start', 685.8738489552956), ('tri', 682.0796295459921), ('possibl', 680.5041651481665), ('point', 638.5920952391582), ('work', 627.1493931679722), ('system', 626.8682630230659), ('problem', 606.7092979492145), ('good', 605.2492334109677), ('sensor', 597.6501092197512), ('exampl', 578.0856594139506), ('say', 567.9172996938685), ('follow', 560.4239566405016), ('mean', 543.809830317826), ('read', 538.98782491655), ('see', 512.7615686429452), ('help', 504.15159412514697), ('someth', 500.64176381537936), ('even', 496.58218194492474), ('current', 487.96528122750226), ('first', 484.7779152597496), ('line', 484.70644369055566), ('howev', 451.9591860623153), ('abl', 434.9976146132532), ('right', 434.7981988623875), ('idea', 378.6623085793125), ('end', 373.9342031596699), ('thank', 371.17672811119036), ('new', 327.45105148344504), ('run', 308.5465184915676), ('chang', 277.34560863430363), ('data', 216.83082232384768), ('com', 157.16546026477243), ('creat', 147.33663062897094), ('file', 141.98630266745224), ('valu', 138.15780917043634), ('function', 132.3060142732245), ('output', 87.55400011984185), ('name', 84.79200064729359), ('http', 78.4610090591578), ('titl', 77.75699733366187), ('site', 60.87732990152667), ('type', 40.16882690542823), ('set', 9.157566860983286), ('code', 8.227860086565215), ('local', 5.83586904633529), ('return', 0.8321103139139643), ('form', 0.8009285813610697), ('block', 0.7636501498348869), ('error', 0.7482577598695824), ('imag', 0.6539459785738311), ('array', 0.6356977682013244), ('page', 0.6063530811397051), ('class', 0.6031271642912076), ('section', 0.5934390059440714), ('user', 0.5610820024010026), ('field', 0.5561021044137144), ('content', 0.5271305484755962), ('plugin', 0.5269040280824184), ('categori', 0.5220861411240406), ('entri', 0.5189786366003731), ('templat', 0.5176090438172467), ('craft', 0.5175916474346779), ('asset', 0.5169158378830565), ('url', 0.5110194504117423), ('php', 0.5106530650484665), ('div', 0.5039965377956208)], 1: [('entri', 4130.26188280353), ('craft', 3886.991375420174), ('set', 2308.982035578055), ('field', 2009.7118483699571), ('user', 1430.5807723429782), ('use', 1382.272293522713), ('type', 1274.0515095334379), ('name', 1228.8022630982807), ('imag', 1186.3648627137356), ('page', 1177.775251023484), ('php', 1153.7047237659112), ('get', 1135.2484238661384), ('work', 1100.0630414126038), ('error', 1092.6711295705659), ('tri', 1071.7078820827523), ('class', 1011.1800832172496), ('templat', 999.5507944541068), ('section', 996.3568773979187), ('plugin', 976.0874168408236), ('site', 938.0679709032885), ('categori', 915.6763278484871), ('code', 897.139332156036), ('form', 894.9619817978862), ('valu', 882.5727261228025), ('like', 868.7929406667779), ('url', 848.847972615416), ('block', 845.2978919929182), ('way', 844.1092735612492), ('titl', 817.0244224171043), ('creat', 783.8548557774609), ('array', 768.2468584615021), ('http', 748.5611431194775), ('div', 732.2028224797267), ('asset', 727.7859435932684), ('content', 713.3710716641748), ('local', 705.6801743684532), ('file', 687.1988835446259), ('com', 682.7924791837299), ('return', 639.3267419416184), ('want', 618.7700972692614), ('would', 588.068265796587), ('function', 558.1520350718946), ('new', 552.7534742312745), ('need', 552.2613270568378), ('data', 537.9047553153915), ('output', 534.4145586710893), ('first', 512.5398511456101), ('exampl', 492.5132560590105), ('one', 419.9929991440016), ('follow', 395.0347500057249), ('look', 394.41792503404133), ('find', 381.43084973967245), ('someth', 375.29273485633115), ('current', 357.2974749653855), ('possibl', 343.13746515081624), ('thank', 342.8616226884642), ('chang', 340.2149936985524), ('end', 337.8200010360883), ('seem', 337.32192192764063), ('see', 336.52216370926897), ('control', 312.22236063657306), ('run', 308.51247717572556), ('also', 253.7349260263244), ('could', 242.6711107306188), ('differ', 226.6752750790642), ('help', 225.4105713011142), ('abl', 222.3586908091231), ('howev', 217.1700013671455), ('idea', 207.35688427654384), ('problem', 196.25158615212936), ('make', 195.93980121605284), ('know', 185.96758955457463), ('right', 169.58879929849536), ('line', 165.2006479182792), ('question', 165.16945810544703), ('amp', 159.97805306471147), ('two', 143.95060918290102), ('time', 133.4184577744364), ('say', 116.04493426471716), ('even', 102.7607900741222), ('point', 74.81185488941613), ('think', 59.96748023795985), ('start', 57.83076550757261), ('system', 55.58623495002189), ('read', 40.20704464316096), ('mean', 10.052968922659012), ('good', 1.6335955417203372), ('motor', 1.616883008778569), ('open', 0.6734657651754827), ('posit', 0.6175090615479835), ('robot', 0.5601226978825312), ('move', 0.5494686883697558), ('sensor', 0.5378448709422123), ('play', 0.5237937345521871), ('game', 0.5168314213790629), ('white', 0.5140825107667519), ('chess', 0.5114573951808655), ('player', 0.507413407226229), ('pawn', 0.5073132941054608), ('black', 0.5064512747357242)]}\n",
      "['abl', 'content', 'code', 'class', 'site', 'section', 'help', 'imag', 'one', 'local', 'user', 'would', 'see', 'thank', 'categori', 'black', 'php', 'name', 'howev', 'chess', 'run', 'first', 'return', 'entri', 'use', 'data', 'white', 'exampl', 'end', 'even', 'problem', 'game', 'idea', 'mean', 'move', 'plugin', 'div', 'motor', 'templat', 'say', 'url', 'robot', 'make', 'type', 'right', 'craft', 'system', 'form', 'amp', 'point', 'array', 'http', 'tri', 'also', 'control', 'block', 'open', 'like', 'pawn', 'output', 'creat', 'someth', 'get', 'time', 'play', 'two', 'look', 'page', 'error', 'could', 'posit', 'sensor', 'new', 'com', 'work', 'titl', 'know', 'set', 'file', 'good', 'follow', 'chang', 'line', 'think', 'valu', 'asset', 'way', 'question', 'need', 'function', 'player', 'find', 'seem', 'differ', 'want', 'start', 'possibl', 'read', 'current', 'field']\n"
     ]
    }
   ],
   "source": [
    "print(topic_word_prob)\n",
    "print(feature_names_list)"
   ]
  },
  {
   "cell_type": "code",
   "execution_count": 134,
   "metadata": {},
   "outputs": [
    {
     "name": "stdout",
     "output_type": "stream",
     "text": [
      "(6317, 2)\n"
     ]
    }
   ],
   "source": [
    "lda_x = lda_tf.transform(X_tf)\n",
    "print(lda_x.shape)"
   ]
  },
  {
   "cell_type": "code",
   "execution_count": 135,
   "metadata": {},
   "outputs": [
    {
     "name": "stdout",
     "output_type": "stream",
     "text": [
      "(6317, 7)\n"
     ]
    },
    {
     "data": {
      "text/html": [
       "<div>\n",
       "<style scoped>\n",
       "    .dataframe tbody tr th:only-of-type {\n",
       "        vertical-align: middle;\n",
       "    }\n",
       "\n",
       "    .dataframe tbody tr th {\n",
       "        vertical-align: top;\n",
       "    }\n",
       "\n",
       "    .dataframe thead th {\n",
       "        text-align: right;\n",
       "    }\n",
       "</style>\n",
       "<table border=\"1\" class=\"dataframe\">\n",
       "  <thead>\n",
       "    <tr style=\"text-align: right;\">\n",
       "      <th></th>\n",
       "      <th>index</th>\n",
       "      <th>content</th>\n",
       "      <th>label</th>\n",
       "      <th>idx</th>\n",
       "      <th>label_code</th>\n",
       "      <th>Topic_0</th>\n",
       "      <th>Topic_1</th>\n",
       "    </tr>\n",
       "  </thead>\n",
       "  <tbody>\n",
       "    <tr>\n",
       "      <th>6142</th>\n",
       "      <td>6172</td>\n",
       "      <td>form span two page requir field page option fi...</td>\n",
       "      <td>no</td>\n",
       "      <td>6172</td>\n",
       "      <td>0.0</td>\n",
       "      <td>0.168854</td>\n",
       "      <td>0.831146</td>\n",
       "    </tr>\n",
       "    <tr>\n",
       "      <th>4547</th>\n",
       "      <td>4577</td>\n",
       "      <td>test stumbl across craftsessionid cooki differ...</td>\n",
       "      <td>no</td>\n",
       "      <td>4577</td>\n",
       "      <td>0.0</td>\n",
       "      <td>0.562772</td>\n",
       "      <td>0.437228</td>\n",
       "    </tr>\n",
       "    <tr>\n",
       "      <th>5419</th>\n",
       "      <td>5449</td>\n",
       "      <td>page drag drop abil reorder group structur ent...</td>\n",
       "      <td>no</td>\n",
       "      <td>5449</td>\n",
       "      <td>0.0</td>\n",
       "      <td>0.211544</td>\n",
       "      <td>0.788456</td>\n",
       "    </tr>\n",
       "    <tr>\n",
       "      <th>5872</th>\n",
       "      <td>5902</td>\n",
       "      <td>possibl manual clean databas cach templat beco...</td>\n",
       "      <td>no</td>\n",
       "      <td>5902</td>\n",
       "      <td>0.0</td>\n",
       "      <td>0.280171</td>\n",
       "      <td>0.719829</td>\n",
       "    </tr>\n",
       "    <tr>\n",
       "      <th>4013</th>\n",
       "      <td>4043</td>\n",
       "      <td>use algorithm quiet search zero window search ...</td>\n",
       "      <td>no</td>\n",
       "      <td>4043</td>\n",
       "      <td>0.0</td>\n",
       "      <td>0.648428</td>\n",
       "      <td>0.351572</td>\n",
       "    </tr>\n",
       "  </tbody>\n",
       "</table>\n",
       "</div>"
      ],
      "text/plain": [
       "      index                                            content label   idx  \\\n",
       "6142   6172  form span two page requir field page option fi...    no  6172   \n",
       "4547   4577  test stumbl across craftsessionid cooki differ...    no  4577   \n",
       "5419   5449  page drag drop abil reorder group structur ent...    no  5449   \n",
       "5872   5902  possibl manual clean databas cach templat beco...    no  5902   \n",
       "4013   4043  use algorithm quiet search zero window search ...    no  4043   \n",
       "\n",
       "      label_code   Topic_0   Topic_1  \n",
       "6142         0.0  0.168854  0.831146  \n",
       "4547         0.0  0.562772  0.437228  \n",
       "5419         0.0  0.211544  0.788456  \n",
       "5872         0.0  0.280171  0.719829  \n",
       "4013         0.0  0.648428  0.351572  "
      ]
     },
     "execution_count": 135,
     "metadata": {},
     "output_type": "execute_result"
    }
   ],
   "source": [
    "for i in range(no_topics):\n",
    "    topic_name = \"Topic_{}\".format(str(i))\n",
    "    raw_df[topic_name] = pd.Series(lda_x[:, i])\n",
    "print(raw_df.shape)\n",
    "raw_df.sample(5)"
   ]
  },
  {
   "cell_type": "code",
   "execution_count": 136,
   "metadata": {},
   "outputs": [
    {
     "data": {
      "text/plain": [
       "index           int64\n",
       "content        object\n",
       "label          object\n",
       "idx             int64\n",
       "label_code    float64\n",
       "Topic_0       float64\n",
       "Topic_1       float64\n",
       "dtype: object"
      ]
     },
     "execution_count": 136,
     "metadata": {},
     "output_type": "execute_result"
    }
   ],
   "source": [
    "raw_df.dtypes"
   ]
  },
  {
   "cell_type": "code",
   "execution_count": 137,
   "metadata": {},
   "outputs": [
    {
     "name": "stdout",
     "output_type": "stream",
     "text": [
      "{'use': 2775.5176540149055, 'would': 2223.1053025515084, 'move': 2031.628355799887, 'like': 1804.0835374230312, 'robot': 1670.7705765958103, 'one': 1621.491722292872, 'play': 1592.8593973567295, 'game': 1554.630376988787, 'chess': 1438.1433004648786, 'posit': 1369.4069074417728, 'know': 1278.8279944532185, 'time': 1241.840224277875, 'motor': 1237.3461011874501, 'question': 1078.9721561656825, 'control': 1021.3632235521964, 'open': 962.3166499384926, 'black': 946.1192562083041, 'need': 936.2592836250654, 'white': 928.1880972254155, 'make': 883.8918920990906, 'want': 864.074183567241, 'look': 862.320946900028, 'get': 845.7358385610067, 'amp': 817.1780447844216, 'way': 792.4304075370324, 'could': 775.9432452404782, 'also': 772.2546974956672, 'player': 762.5030226178554, 'two': 753.7943782269708, 'pawn': 749.0761342902363, 'think': 747.6280734345357, 'differ': 747.2623674892313, 'find': 744.2698435467739, 'seem': 725.0645911148151, 'start': 685.8738489552956, 'tri': 682.0796295459921, 'possibl': 680.5041651481665, 'point': 638.5920952391582, 'work': 627.1493931679722, 'system': 626.8682630230659, 'problem': 606.7092979492145, 'good': 605.2492334109677, 'sensor': 597.6501092197512, 'exampl': 578.0856594139506, 'say': 567.9172996938685, 'follow': 560.4239566405016, 'mean': 543.809830317826, 'read': 538.98782491655, 'see': 512.7615686429452, 'help': 504.15159412514697, 'someth': 500.64176381537936, 'even': 496.58218194492474, 'current': 487.96528122750226, 'first': 484.7779152597496, 'line': 484.70644369055566, 'howev': 451.9591860623153, 'abl': 434.9976146132532, 'right': 434.7981988623875, 'idea': 378.6623085793125, 'end': 373.9342031596699, 'thank': 371.17672811119036, 'new': 327.45105148344504, 'run': 308.5465184915676, 'chang': 277.34560863430363, 'data': 216.83082232384768, 'com': 157.16546026477243, 'creat': 147.33663062897094, 'file': 141.98630266745224, 'valu': 138.15780917043634, 'function': 132.3060142732245, 'output': 87.55400011984185, 'name': 84.79200064729359, 'http': 78.4610090591578, 'titl': 77.75699733366187, 'site': 60.87732990152667, 'type': 40.16882690542823, 'set': 9.157566860983286, 'code': 8.227860086565215, 'local': 5.83586904633529, 'return': 0.8321103139139643, 'form': 0.8009285813610697, 'block': 0.7636501498348869, 'error': 0.7482577598695824, 'imag': 0.6539459785738311, 'array': 0.6356977682013244, 'page': 0.6063530811397051, 'class': 0.6031271642912076, 'section': 0.5934390059440714, 'user': 0.5610820024010026, 'field': 0.5561021044137144, 'content': 0.5271305484755962, 'plugin': 0.5269040280824184, 'categori': 0.5220861411240406, 'entri': 0.5189786366003731, 'templat': 0.5176090438172467, 'craft': 0.5175916474346779, 'asset': 0.5169158378830565, 'url': 0.5110194504117423, 'php': 0.5106530650484665, 'div': 0.5039965377956208}\n",
      "{'entri': 4130.26188280353, 'craft': 3886.991375420174, 'set': 2308.982035578055, 'field': 2009.7118483699571, 'user': 1430.5807723429782, 'use': 1382.272293522713, 'type': 1274.0515095334379, 'name': 1228.8022630982807, 'imag': 1186.3648627137356, 'page': 1177.775251023484, 'php': 1153.7047237659112, 'get': 1135.2484238661384, 'work': 1100.0630414126038, 'error': 1092.6711295705659, 'tri': 1071.7078820827523, 'class': 1011.1800832172496, 'templat': 999.5507944541068, 'section': 996.3568773979187, 'plugin': 976.0874168408236, 'site': 938.0679709032885, 'categori': 915.6763278484871, 'code': 897.139332156036, 'form': 894.9619817978862, 'valu': 882.5727261228025, 'like': 868.7929406667779, 'url': 848.847972615416, 'block': 845.2978919929182, 'way': 844.1092735612492, 'titl': 817.0244224171043, 'creat': 783.8548557774609, 'array': 768.2468584615021, 'http': 748.5611431194775, 'div': 732.2028224797267, 'asset': 727.7859435932684, 'content': 713.3710716641748, 'local': 705.6801743684532, 'file': 687.1988835446259, 'com': 682.7924791837299, 'return': 639.3267419416184, 'want': 618.7700972692614, 'would': 588.068265796587, 'function': 558.1520350718946, 'new': 552.7534742312745, 'need': 552.2613270568378, 'data': 537.9047553153915, 'output': 534.4145586710893, 'first': 512.5398511456101, 'exampl': 492.5132560590105, 'one': 419.9929991440016, 'follow': 395.0347500057249, 'look': 394.41792503404133, 'find': 381.43084973967245, 'someth': 375.29273485633115, 'current': 357.2974749653855, 'possibl': 343.13746515081624, 'thank': 342.8616226884642, 'chang': 340.2149936985524, 'end': 337.8200010360883, 'seem': 337.32192192764063, 'see': 336.52216370926897, 'control': 312.22236063657306, 'run': 308.51247717572556, 'also': 253.7349260263244, 'could': 242.6711107306188, 'differ': 226.6752750790642, 'help': 225.4105713011142, 'abl': 222.3586908091231, 'howev': 217.1700013671455, 'idea': 207.35688427654384, 'problem': 196.25158615212936, 'make': 195.93980121605284, 'know': 185.96758955457463, 'right': 169.58879929849536, 'line': 165.2006479182792, 'question': 165.16945810544703, 'amp': 159.97805306471147, 'two': 143.95060918290102, 'time': 133.4184577744364, 'say': 116.04493426471716, 'even': 102.7607900741222, 'point': 74.81185488941613, 'think': 59.96748023795985, 'start': 57.83076550757261, 'system': 55.58623495002189, 'read': 40.20704464316096, 'mean': 10.052968922659012, 'good': 1.6335955417203372, 'motor': 1.616883008778569, 'open': 0.6734657651754827, 'posit': 0.6175090615479835, 'robot': 0.5601226978825312, 'move': 0.5494686883697558, 'sensor': 0.5378448709422123, 'play': 0.5237937345521871, 'game': 0.5168314213790629, 'white': 0.5140825107667519, 'chess': 0.5114573951808655, 'player': 0.507413407226229, 'pawn': 0.5073132941054608, 'black': 0.5064512747357242}\n"
     ]
    }
   ],
   "source": [
    "topic0_word_prob_map = {}\n",
    "topic1_word_prob_map = {}\n",
    "topic_index1 = 1\n",
    "topic_index0 = 0\n",
    "for d in topic_word_prob[topic_index0]:\n",
    "        topic0_word_prob_map[d[0]] = d[1]\n",
    "for d in topic_word_prob[topic_index1]:\n",
    "        topic1_word_prob_map[d[0]] = d[1]\n",
    "print(topic0_word_prob_map)\n",
    "print(topic1_word_prob_map)"
   ]
  },
  {
   "cell_type": "code",
   "execution_count": 138,
   "metadata": {},
   "outputs": [],
   "source": [
    "def doc_word_mapping(words, topic0, topic1):\n",
    "    is_max_0 = True\n",
    "    topic_prob0 = topic0\n",
    "    topic_prob1 = topic1\n",
    "    if topic_prob1 > topic_prob0:\n",
    "        is_max_0 = False\n",
    "    weighted_words = [0]*(len(feature_names_list)+2)\n",
    "    weighted_words[-1] = topic_prob1\n",
    "    weighted_words[-2] = topic_prob0\n",
    "    uniq_words = Counter(words.split(' '))\n",
    "    for idx, w in enumerate(feature_names_list):\n",
    "        count = 0\n",
    "        if w in uniq_words:\n",
    "            count = uniq_words[w]\n",
    "        prob = 0\n",
    "        if is_max_0 and  w in topic0_word_prob_map:\n",
    "            prob += count * topic0_word_prob_map[w]\n",
    "        if not is_max_0 and w in topic1_word_prob_map:\n",
    "            prob += count * topic1_word_prob_map[w]\n",
    "        weighted_words[idx] = prob\n",
    "    return weighted_words"
   ]
  },
  {
   "cell_type": "code",
   "execution_count": 139,
   "metadata": {},
   "outputs": [],
   "source": [
    "# idx = 5\n",
    "# tmp_vals = raw_df.loc[idx, ['content', 'Topic_0', 'Topic_1']].values\n",
    "# words, topic0, topic1 = tmp_vals[0], tmp_vals[1], tmp_vals[2]\n",
    "# doc_word_mapping(words, topic0, topic1)"
   ]
  },
  {
   "cell_type": "code",
   "execution_count": 140,
   "metadata": {},
   "outputs": [],
   "source": [
    "raw_df['word_prob'] = raw_df.apply(lambda x: doc_word_mapping(x['content'], x['Topic_0'], x['Topic_1']), axis=1)"
   ]
  },
  {
   "cell_type": "code",
   "execution_count": 141,
   "metadata": {},
   "outputs": [
    {
     "name": "stdout",
     "output_type": "stream",
     "text": [
      "[0.0, 0.0, 0.0, 0.0, 0.0, 996.3568773979187, 0.0, 0.0, 0.0, 0.0, 0.0, 0.0, 336.52216370926897, 0.0, 0.0, 0.0, 0.0, 0.0, 217.1700013671455, 0.0, 0.0, 0.0, 0.0, 0.0, 1382.272293522713, 537.9047553153915, 0.0, 0.0, 337.8200010360883, 0.0, 0.0, 0.0, 0.0, 0.0, 0.0, 0.0, 0.0, 0.0, 0.0, 0.0, 0.0, 0.0, 0.0, 0.0, 0.0, 0.0, 0.0, 0.0, 0.0, 0.0, 0.0, 0.0, 0.0, 0.0, 0.0, 0.0, 0.0, 0.0, 0.0, 0.0, 0.0, 0.0, 0.0, 0.0, 0.0, 0.0, 0.0, 0.0, 0.0, 0.0, 0.0, 0.0, 0.0, 0.0, 0.0, 0.0, 0.0, 0.0, 0.0, 0.0, 0.0, 0.0, 0.0, 0.0, 0.0, 0.0, 1688.2185471224984, 0.0, 0.0, 0.0, 0.0, 381.43084973967245, 0.0, 0.0, 0.0, 0.0, 0.0, 0.0, 0.0, 0.0, 0.4878350066698597, 0.5121649933301403]\n"
     ]
    }
   ],
   "source": [
    "print(raw_df['word_prob'][5])"
   ]
  },
  {
   "cell_type": "code",
   "execution_count": 142,
   "metadata": {},
   "outputs": [
    {
     "name": "stdout",
     "output_type": "stream",
     "text": [
      "(6317, 2)\n"
     ]
    },
    {
     "data": {
      "text/html": [
       "<div>\n",
       "<style scoped>\n",
       "    .dataframe tbody tr th:only-of-type {\n",
       "        vertical-align: middle;\n",
       "    }\n",
       "\n",
       "    .dataframe tbody tr th {\n",
       "        vertical-align: top;\n",
       "    }\n",
       "\n",
       "    .dataframe thead th {\n",
       "        text-align: right;\n",
       "    }\n",
       "</style>\n",
       "<table border=\"1\" class=\"dataframe\">\n",
       "  <thead>\n",
       "    <tr style=\"text-align: right;\">\n",
       "      <th></th>\n",
       "      <th>word_prob</th>\n",
       "      <th>label_code</th>\n",
       "    </tr>\n",
       "  </thead>\n",
       "  <tbody>\n",
       "    <tr>\n",
       "      <th>2485</th>\n",
       "      <td>[434.9976146132532, 0.0, 0.0, 0.0, 0.0, 0.0, 0...</td>\n",
       "      <td>0.0</td>\n",
       "    </tr>\n",
       "    <tr>\n",
       "      <th>2298</th>\n",
       "      <td>[434.9976146132532, 0.0, 16.45572017313043, 0....</td>\n",
       "      <td>0.0</td>\n",
       "    </tr>\n",
       "    <tr>\n",
       "      <th>6055</th>\n",
       "      <td>[0.0, 0.0, 0.0, 0.0, 0.0, 0.0, 225.41057130111...</td>\n",
       "      <td>0.0</td>\n",
       "    </tr>\n",
       "    <tr>\n",
       "      <th>1550</th>\n",
       "      <td>[0.0, 0.0, 0.0, 0.0, 0.0, 0.0, 504.15159412514...</td>\n",
       "      <td>0.0</td>\n",
       "    </tr>\n",
       "    <tr>\n",
       "      <th>2933</th>\n",
       "      <td>[0.0, 0.0, 0.0, 0.0, 0.0, 0.0, 0.0, 0.0, 1621....</td>\n",
       "      <td>0.0</td>\n",
       "    </tr>\n",
       "  </tbody>\n",
       "</table>\n",
       "</div>"
      ],
      "text/plain": [
       "                                              word_prob  label_code\n",
       "2485  [434.9976146132532, 0.0, 0.0, 0.0, 0.0, 0.0, 0...         0.0\n",
       "2298  [434.9976146132532, 0.0, 16.45572017313043, 0....         0.0\n",
       "6055  [0.0, 0.0, 0.0, 0.0, 0.0, 0.0, 225.41057130111...         0.0\n",
       "1550  [0.0, 0.0, 0.0, 0.0, 0.0, 0.0, 504.15159412514...         0.0\n",
       "2933  [0.0, 0.0, 0.0, 0.0, 0.0, 0.0, 0.0, 0.0, 1621....         0.0"
      ]
     },
     "execution_count": 142,
     "metadata": {},
     "output_type": "execute_result"
    }
   ],
   "source": [
    "final_df = raw_df[[\"word_prob\", \"label_code\"]]\n",
    "print(final_df.shape)\n",
    "final_df.sample(5)"
   ]
  },
  {
   "cell_type": "code",
   "execution_count": 143,
   "metadata": {},
   "outputs": [],
   "source": [
    "def cm(y_true, y_pred):\n",
    "    tn, fp, fn, tp = confusion_matrix(y_true, y_pred).ravel()\n",
    "\n",
    "    acc = (tp + tn) / (tn + fp + fn + tp)\n",
    "    prec = tp / (tp + fp)\n",
    "    rec = tp / (tp + fn)\n",
    "    f1 = 2 * prec * rec / (prec + rec)\n",
    "\n",
    "    beta = 3\n",
    "    f2 = (1+np.power(beta, 2))*prec*rec/(np.power(beta,2)*prec + rec)\n",
    "\n",
    "    print(\"accuracy\", acc)\n",
    "    print(\"precision\", prec)\n",
    "    print(\"recall\", rec)\n",
    "    print(\"f1\", f1)\n",
    "    print(\"f2\", f2)\n",
    "    print(tn, fp, fn, tp)\n",
    "    return acc, prec, rec, f1, f2"
   ]
  },
  {
   "cell_type": "code",
   "execution_count": 144,
   "metadata": {},
   "outputs": [],
   "source": [
    "X = final_df['word_prob'].values.tolist()\n",
    "y = final_df['label_code']"
   ]
  },
  {
   "cell_type": "code",
   "execution_count": 145,
   "metadata": {},
   "outputs": [],
   "source": [
    "X_train, X_test, y_train, y_test = train_test_split(X, y, test_size=0.20, random_state=9, stratify=y)"
   ]
  },
  {
   "cell_type": "code",
   "execution_count": 146,
   "metadata": {},
   "outputs": [
    {
     "name": "stdout",
     "output_type": "stream",
     "text": [
      "# positive in train set: 247 \n",
      "# negative in train set: 4806\n",
      "# positive in test set: 62 \n",
      "# negative in test set: 1202\n"
     ]
    }
   ],
   "source": [
    "print(\"# positive in train set: {}\".format(len(y_train[y_train == 1])),\n",
    "      \"\\n# negative in train set: {}\".format(len(y_train[y_train == 0])))\n",
    "print(\"# positive in test set: {}\".format(len(y_test[y_test == 1])),\n",
    "      \"\\n# negative in test set: {}\".format(len(y_test[y_test == 0])))"
   ]
  },
  {
   "cell_type": "code",
   "execution_count": 147,
   "metadata": {},
   "outputs": [],
   "source": [
    "scaler = MinMaxScaler().fit(X_train)\n",
    "X_train = scaler.transform(X_train)\n",
    "X_test = scaler.transform(X_test)"
   ]
  },
  {
   "cell_type": "code",
   "execution_count": 148,
   "metadata": {},
   "outputs": [
    {
     "data": {
      "text/plain": [
       "SVC(C=100, cache_size=200, class_weight=None, coef0=0.0,\n",
       "  decision_function_shape='ovr', degree=3, gamma='auto_deprecated',\n",
       "  kernel='linear', max_iter=-1, probability=False, random_state=9,\n",
       "  shrinking=True, tol=0.001, verbose=False)"
      ]
     },
     "execution_count": 148,
     "metadata": {},
     "output_type": "execute_result"
    }
   ],
   "source": [
    "# clf = MultinomialNB()\n",
    "# clf = LinearSVC(C=100, loss='hinge', random_state=9, max_iter=500000)\n",
    "clf = SVC(C=100, kernel='linear', random_state=9)\n",
    "# clf = DecisionTreeClassifier(random_state=0)\n",
    "# clf = RandomForestClassifier(n_estimators=100, random_state=9)\n",
    "\n",
    "clf.fit(X_train, y_train)\n",
    "# y_pred = clf.predict(X_test)"
   ]
  },
  {
   "cell_type": "code",
   "execution_count": 149,
   "metadata": {},
   "outputs": [
    {
     "data": {
      "text/plain": [
       "array([284, 233], dtype=int32)"
      ]
     },
     "execution_count": 149,
     "metadata": {},
     "output_type": "execute_result"
    }
   ],
   "source": [
    "clf.n_support_"
   ]
  },
  {
   "cell_type": "code",
   "execution_count": 151,
   "metadata": {},
   "outputs": [
    {
     "name": "stdout",
     "output_type": "stream",
     "text": [
      "accuracy 0.9596518987341772\n",
      "precision 0.9230769230769231\n",
      "recall 0.1935483870967742\n",
      "f1 0.31999999999999995\n",
      "f2 0.21015761821366025\n",
      "1201 1 50 12\n"
     ]
    },
    {
     "data": {
      "text/plain": [
       "(0.9596518987341772,\n",
       " 0.9230769230769231,\n",
       " 0.1935483870967742,\n",
       " 0.31999999999999995,\n",
       " 0.21015761821366025)"
      ]
     },
     "execution_count": 151,
     "metadata": {},
     "output_type": "execute_result"
    }
   ],
   "source": [
    "y_pred = clf.predict(X_test)\n",
    "cm(y_test, y_pred)"
   ]
  },
  {
   "cell_type": "code",
   "execution_count": null,
   "metadata": {},
   "outputs": [],
   "source": []
  }
 ],
 "metadata": {
  "celltoolbar": "Raw Cell Format",
  "kernelspec": {
   "display_name": "Python 3",
   "language": "python",
   "name": "python3"
  },
  "language_info": {
   "codemirror_mode": {
    "name": "ipython",
    "version": 3
   },
   "file_extension": ".py",
   "mimetype": "text/x-python",
   "name": "python",
   "nbconvert_exporter": "python",
   "pygments_lexer": "ipython3",
   "version": "3.6.5"
  }
 },
 "nbformat": 4,
 "nbformat_minor": 2
}
